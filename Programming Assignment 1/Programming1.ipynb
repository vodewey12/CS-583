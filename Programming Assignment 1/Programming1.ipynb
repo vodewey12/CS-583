{
 "cells": [
  {
   "cell_type": "markdown",
   "metadata": {},
   "source": [
    "# Programming Assignment: Numerical Optimization for Logistic Regression.\n",
    "\n",
    "### Name: Aaron Vo\n"
   ]
  },
  {
   "cell_type": "markdown",
   "metadata": {},
   "source": [
    "## 0. You will do the following:\n",
    "\n",
    "1. Read the lecture note: [click here](https://github.com/wangshusen/DeepLearning/blob/master/LectureNotes/Logistic/paper/logistic.pdf)\n",
    "\n",
    "2. Read, complete, and run my code.\n",
    "\n",
    "3. **Implement mini-batch SGD** and evaluate the performance.\n",
    "\n",
    "4. Convert the .IPYNB file to .HTML file.\n",
    "\n",
    "    * The HTML file must contain **the code** and **the output after execution**.\n",
    "    \n",
    "    * Missing **the output after execution** will not be graded.\n",
    "    \n",
    "    \n",
    "5. Upload this .HTML file to your Google Drive, Dropbox, or your Github repo.  (If you submit the file to Google Drive or Dropbox, you must make the file \"open-access\". The delay caused by \"deny of access\" may result in late penalty.)\n",
    "\n",
    "6. On Canvas, submit the Google Drive/Dropbox/Github link to the HTML file.\n",
    "\n",
    "\n",
    "## Grading criteria:\n",
    "\n",
    "1. When computing the ```gradient``` and ```objective function value``` using a batch of samples, use **matrix-vector multiplication** rather than a FOR LOOP of **vector-vector multiplications**.\n",
    "\n",
    "2. Plot ```objective function value``` against ```epochs```. In the plot, compare GD, SGD, and MB-SGD (with $b=8$ and $b=64$). The plot must look reasonable."
   ]
  },
  {
   "cell_type": "code",
   "execution_count": null,
   "metadata": {},
   "outputs": [],
   "source": []
  },
  {
   "cell_type": "markdown",
   "metadata": {},
   "source": [
    "# 1. Data processing\n",
    "\n",
    "- Download the Diabete dataset from https://www.csie.ntu.edu.tw/~cjlin/libsvmtools/datasets/binary/diabetes\n",
    "- Load the data using sklearn.\n",
    "- Preprocess the data."
   ]
  },
  {
   "cell_type": "markdown",
   "metadata": {},
   "source": [
    "## 1.1. Load the data"
   ]
  },
  {
   "cell_type": "code",
   "execution_count": 1,
   "metadata": {},
   "outputs": [
    {
     "name": "stdout",
     "output_type": "stream",
     "text": [
      "Shape of x: (768, 8)\n",
      "Shape of y: (768,)\n"
     ]
    }
   ],
   "source": [
    "from sklearn import datasets\n",
    "import numpy\n",
    "\n",
    "x_sparse, y = datasets.load_svmlight_file('diabetes')\n",
    "x = x_sparse.todense()\n",
    "\n",
    "print('Shape of x: ' + str(x.shape))\n",
    "print('Shape of y: ' + str(y.shape))"
   ]
  },
  {
   "cell_type": "markdown",
   "metadata": {},
   "source": [
    "## 1.2. Partition to training and test sets"
   ]
  },
  {
   "cell_type": "code",
   "execution_count": 2,
   "metadata": {},
   "outputs": [
    {
     "name": "stdout",
     "output_type": "stream",
     "text": [
      "Shape of x_train: (640, 8)\n",
      "Shape of x_test: (128, 8)\n",
      "Shape of y_train: (640, 1)\n",
      "Shape of y_test: (128, 1)\n"
     ]
    }
   ],
   "source": [
    "# partition the data to training and test sets\n",
    "n = x.shape[0]\n",
    "n_train = 640\n",
    "n_test = n - n_train\n",
    "\n",
    "rand_indices = numpy.random.permutation(n)\n",
    "train_indices = rand_indices[0:n_train]\n",
    "test_indices = rand_indices[n_train:n]\n",
    "\n",
    "x_train = x[train_indices, :]\n",
    "x_test = x[test_indices, :]\n",
    "y_train = y[train_indices].reshape(n_train, 1)\n",
    "y_test = y[test_indices].reshape(n_test, 1)\n",
    "\n",
    "print('Shape of x_train: ' + str(x_train.shape))\n",
    "print('Shape of x_test: ' + str(x_test.shape))\n",
    "print('Shape of y_train: ' + str(y_train.shape))\n",
    "print('Shape of y_test: ' + str(y_test.shape))"
   ]
  },
  {
   "cell_type": "markdown",
   "metadata": {},
   "source": [
    "## 1.3. Feature scaling"
   ]
  },
  {
   "cell_type": "markdown",
   "metadata": {},
   "source": [
    "Use the standardization to trainsform both training and test features"
   ]
  },
  {
   "cell_type": "code",
   "execution_count": 3,
   "metadata": {},
   "outputs": [
    {
     "name": "stdout",
     "output_type": "stream",
     "text": [
      "test mean = \n",
      "[[-0.01171234  0.10929275 -0.03226254 -0.06173084  0.13106485 -0.10140582\n",
      "   0.00469117 -0.05288439]]\n",
      "test std = \n",
      "[[1.05659546 1.08986003 1.00555254 0.95816196 1.3219801  0.96537981\n",
      "  0.95800395 0.94954147]]\n"
     ]
    }
   ],
   "source": [
    "# Standardization\n",
    "import numpy\n",
    "\n",
    "# calculate mu and sig using the training set\n",
    "d = x_train.shape[1]\n",
    "mu = numpy.mean(x_train, axis=0).reshape(1, d)\n",
    "sig = numpy.std(x_train, axis=0).reshape(1, d)\n",
    "\n",
    "# transform the training features\n",
    "x_train = (x_train - mu) / (sig + 1E-6)\n",
    "\n",
    "# transform the test features\n",
    "x_test = (x_test - mu) / (sig + 1E-6)\n",
    "\n",
    "print('test mean = ')\n",
    "print(numpy.mean(x_test, axis=0))\n",
    "\n",
    "print('test std = ')\n",
    "print(numpy.std(x_test, axis=0))"
   ]
  },
  {
   "cell_type": "markdown",
   "metadata": {},
   "source": [
    "## 1.4. Add a dimension of all ones"
   ]
  },
  {
   "cell_type": "code",
   "execution_count": 4,
   "metadata": {},
   "outputs": [
    {
     "name": "stdout",
     "output_type": "stream",
     "text": [
      "Shape of x_train: (640, 9)\n",
      "Shape of x_test: (128, 9)\n"
     ]
    }
   ],
   "source": [
    "n_train, d = x_train.shape\n",
    "x_train = numpy.concatenate((x_train, numpy.ones((n_train, 1))), axis=1)\n",
    "\n",
    "n_test, d = x_test.shape\n",
    "x_test = numpy.concatenate((x_test, numpy.ones((n_test, 1))), axis=1)\n",
    "\n",
    "print('Shape of x_train: ' + str(x_train.shape))\n",
    "print('Shape of x_test: ' + str(x_test.shape))"
   ]
  },
  {
   "cell_type": "markdown",
   "metadata": {},
   "source": [
    "# 2. Logistic regression model\n",
    "\n",
    "The objective function is $Q (w; X, y) = \\frac{1}{n} \\sum_{i=1}^n \\log \\Big( 1 + \\exp \\big( - y_i x_i^T w \\big) \\Big) + \\frac{\\lambda}{2} \\| w \\|_2^2 $."
   ]
  },
  {
   "cell_type": "code",
   "execution_count": 5,
   "metadata": {},
   "outputs": [],
   "source": [
    "# Calculate the objective function value\n",
    "# Inputs:\n",
    "#     w: d-by-1 matrix\n",
    "#     x: n-by-d matrix\n",
    "#     y: n-by-1 matrix\n",
    "#     lam: scalar, the regularization parameter\n",
    "# Return:\n",
    "#     objective function value (scalar)\n",
    "def objective(w, x, y, lam):\n",
    "    n, d = x.shape\n",
    "    yx = numpy.multiply(y, x) # n-by-d matrix\n",
    "    yxw = numpy.dot(yx, w) # n-by-1 matrix\n",
    "    vec1 = numpy.exp(-yxw) # n-by-1 matrix\n",
    "    vec2 = numpy.log(1 + vec1) # n-by-1 matrix\n",
    "    loss = numpy.mean(vec2) # scalar\n",
    "    reg = lam / 2 * numpy.sum(w * w) # scalar\n",
    "    return loss + reg\n",
    "    "
   ]
  },
  {
   "cell_type": "code",
   "execution_count": 6,
   "metadata": {},
   "outputs": [
    {
     "name": "stdout",
     "output_type": "stream",
     "text": [
      "Initial objective function value = 0.6931471805599453\n"
     ]
    }
   ],
   "source": [
    "# initialize w\n",
    "d = x_train.shape[1]\n",
    "w = numpy.zeros((d, 1))\n",
    "\n",
    "# evaluate the objective function value at w\n",
    "lam = 1E-6\n",
    "objval0 = objective(w, x_train, y_train, lam)\n",
    "print('Initial objective function value = ' + str(objval0))"
   ]
  },
  {
   "cell_type": "markdown",
   "metadata": {},
   "source": [
    "# 3. Numerical optimization"
   ]
  },
  {
   "cell_type": "markdown",
   "metadata": {},
   "source": [
    "## 3.1. Gradient descent\n"
   ]
  },
  {
   "cell_type": "markdown",
   "metadata": {},
   "source": [
    "The gradient at $w$ is $g = - \\frac{1}{n} \\sum_{i=1}^n \\frac{y_i x_i }{1 + \\exp ( y_i x_i^T w)} + \\lambda w$"
   ]
  },
  {
   "cell_type": "code",
   "execution_count": 7,
   "metadata": {},
   "outputs": [],
   "source": [
    "# Calculate the gradient\n",
    "# Inputs:\n",
    "#     w: d-by-1 matrix\n",
    "#     x: n-by-d matrix\n",
    "#     y: n-by-1 matrix\n",
    "#     lam: scalar, the regularization parameter\n",
    "# Return:\n",
    "#     g: g: d-by-1 matrix, full gradient\n",
    "def gradient(w, x, y, lam):\n",
    "    n, d = x.shape\n",
    "    yx = numpy.multiply(y, x) # n-by-d matrix\n",
    "    yxw = numpy.dot(yx, w) # n-by-1 matrix\n",
    "    vec1 = numpy.exp(yxw) # n-by-1 matrix\n",
    "    vec2 = numpy.divide(yx, 1+vec1) # n-by-d matrix\n",
    "    vec3 = -numpy.mean(vec2, axis=0).reshape(d, 1) # d-by-1 matrix\n",
    "    g = vec3 + lam * w\n",
    "    return g"
   ]
  },
  {
   "cell_type": "code",
   "execution_count": 8,
   "metadata": {},
   "outputs": [],
   "source": [
    "# Gradient descent for solving logistic regression\n",
    "# Inputs:\n",
    "#     x: n-by-d matrix\n",
    "#     y: n-by-1 matrix\n",
    "#     lam: scalar, the regularization parameter\n",
    "#     stepsize: scalar\n",
    "#     max_iter: integer, the maximal iterations\n",
    "#     w: d-by-1 matrix, initialization of w\n",
    "# Return:\n",
    "#     w: d-by-1 matrix, the solution\n",
    "#     objvals: a record of each iteration's objective value\n",
    "def grad_descent(x, y, lam, stepsize, max_iter=100, w=None):\n",
    "    n, d = x.shape\n",
    "    objvals = numpy.zeros(max_iter) # store the objective values\n",
    "    if w is None:\n",
    "        w = numpy.zeros((d, 1)) # zero initialization\n",
    "    \n",
    "    for t in range(max_iter):\n",
    "        objval = objective(w, x, y, lam)\n",
    "        objvals[t] = objval\n",
    "        print('Objective value at t=' + str(t) + ' is ' + str(objval))\n",
    "        g = gradient(w, x, y, lam)\n",
    "        w -= stepsize * g\n",
    "    \n",
    "    return w, objvals"
   ]
  },
  {
   "cell_type": "markdown",
   "metadata": {},
   "source": [
    "Run gradient descent."
   ]
  },
  {
   "cell_type": "code",
   "execution_count": 9,
   "metadata": {},
   "outputs": [
    {
     "name": "stdout",
     "output_type": "stream",
     "text": [
      "Objective value at t=0 is 0.6931471805599453\n",
      "Objective value at t=1 is 0.5938129844109292\n",
      "Objective value at t=2 is 0.5511615115465683\n",
      "Objective value at t=3 is 0.5276824280212846\n",
      "Objective value at t=4 is 0.5128710533995097\n",
      "Objective value at t=5 is 0.5027895958537987\n",
      "Objective value at t=6 is 0.495594865486538\n",
      "Objective value at t=7 is 0.49029063506546183\n",
      "Objective value at t=8 is 0.4862848281403996\n",
      "Objective value at t=9 is 0.4832019831427478\n",
      "Objective value at t=10 is 0.48079271160162534\n",
      "Objective value at t=11 is 0.4788855026693212\n",
      "Objective value at t=12 is 0.47735913211565034\n",
      "Objective value at t=13 is 0.47612597817161856\n",
      "Objective value at t=14 is 0.4751214994169836\n",
      "Objective value at t=15 is 0.47429737445479053\n",
      "Objective value at t=16 is 0.47361690589076605\n",
      "Objective value at t=17 is 0.47305187006497934\n",
      "Objective value at t=18 is 0.47258031470602757\n",
      "Objective value at t=19 is 0.4721849922732256\n",
      "Objective value at t=20 is 0.47185222804435745\n",
      "Objective value at t=21 is 0.47157109074222253\n",
      "Objective value at t=22 is 0.471332777018552\n",
      "Objective value at t=23 is 0.47113014927580005\n",
      "Objective value at t=24 is 0.4709573848777008\n",
      "Objective value at t=25 is 0.4708097072547348\n",
      "Objective value at t=26 is 0.4706831778941124\n",
      "Objective value at t=27 is 0.470574534064263\n",
      "Objective value at t=28 is 0.47048106122537486\n",
      "Objective value at t=29 is 0.47040049198317757\n",
      "Objective value at t=30 is 0.4703309255250721\n",
      "Objective value at t=31 is 0.4702707629853706\n",
      "Objective value at t=32 is 0.4702186552891667\n",
      "Objective value at t=33 is 0.47017346083858746\n",
      "Objective value at t=34 is 0.470134211011743\n",
      "Objective value at t=35 is 0.4701000819003411\n",
      "Objective value at t=36 is 0.4700703710569652\n",
      "Objective value at t=37 is 0.47004447828623214\n",
      "Objective value at t=38 is 0.47002188971629133\n",
      "Objective value at t=39 is 0.4700021645435675\n",
      "Objective value at t=40 is 0.46998492396543623\n",
      "Objective value at t=41 is 0.4699698419109096\n",
      "Objective value at t=42 is 0.46995663725453696\n",
      "Objective value at t=43 is 0.4699450672582385\n",
      "Objective value at t=44 is 0.46993492203316095\n",
      "Objective value at t=45 is 0.469926019851544\n",
      "Objective value at t=46 is 0.4699182031690452\n",
      "Objective value at t=47 is 0.4699113352425671\n",
      "Objective value at t=48 is 0.46990529724855634\n",
      "Objective value at t=49 is 0.4698999858229807\n",
      "Objective value at t=50 is 0.46989531095743386\n",
      "Objective value at t=51 is 0.4698911941966952\n",
      "Objective value at t=52 is 0.4698875670920075\n",
      "Objective value at t=53 is 0.4698843698717166\n",
      "Objective value at t=54 is 0.4698815502970279\n",
      "Objective value at t=55 is 0.4698790626757069\n",
      "Objective value at t=56 is 0.4698768670107728\n",
      "Objective value at t=57 is 0.4698749282647647\n",
      "Objective value at t=58 is 0.4698732157231089\n",
      "Objective value at t=59 is 0.46987170244258897\n",
      "Objective value at t=60 is 0.46987036477301\n",
      "Objective value at t=61 is 0.4698691819418939\n",
      "Objective value at t=62 is 0.4698681356935318\n",
      "Objective value at t=63 is 0.46986720997496934\n",
      "Objective value at t=64 is 0.4698663906625629\n",
      "Objective value at t=65 is 0.4698656653236521\n",
      "Objective value at t=66 is 0.46986502300865524\n",
      "Objective value at t=67 is 0.46986445406955696\n",
      "Objective value at t=68 is 0.46986395000130604\n",
      "Objective value at t=69 is 0.4698635033031301\n",
      "Objective value at t=70 is 0.46986310735717257\n",
      "Objective value at t=71 is 0.46986275632221636\n",
      "Objective value at t=72 is 0.4698624450405522\n",
      "Objective value at t=73 is 0.46986216895631533\n",
      "Objective value at t=74 is 0.4698619240438301\n",
      "Objective value at t=75 is 0.4698617067447025\n",
      "Objective value at t=76 is 0.46986151391255465\n",
      "Objective value at t=77 is 0.46986134276445096\n",
      "Objective value at t=78 is 0.46986119083817973\n",
      "Objective value at t=79 is 0.46986105595466615\n",
      "Objective value at t=80 is 0.4698609361848833\n",
      "Objective value at t=81 is 0.46986082982070965\n",
      "Objective value at t=82 is 0.4698607353492494\n",
      "Objective value at t=83 is 0.46986065143019534\n",
      "Objective value at t=84 is 0.4698605768758649\n",
      "Objective value at t=85 is 0.46986051063358675\n",
      "Objective value at t=86 is 0.46986045177015395\n",
      "Objective value at t=87 is 0.4698603994580975\n",
      "Objective value at t=88 is 0.4698603529635623\n",
      "Objective value at t=89 is 0.4698603116355948\n",
      "Objective value at t=90 is 0.4698602748966729\n",
      "Objective value at t=91 is 0.46986024223433603\n",
      "Objective value at t=92 is 0.46986021319377896\n",
      "Objective value at t=93 is 0.46986018737130264\n",
      "Objective value at t=94 is 0.46986016440851663\n",
      "Objective value at t=95 is 0.4698601439872082\n",
      "Objective value at t=96 is 0.4698601258247987\n",
      "Objective value at t=97 is 0.4698601096703198\n",
      "Objective value at t=98 is 0.4698600953008496\n",
      "Objective value at t=99 is 0.4698600825183535\n"
     ]
    }
   ],
   "source": [
    "lam = 1E-6\n",
    "stepsize = 1.0\n",
    "w, objvals_gd = grad_descent(x_train, y_train, lam, stepsize)"
   ]
  },
  {
   "cell_type": "markdown",
   "metadata": {},
   "source": [
    "## 3.2. Stochastic gradient descent (SGD)\n",
    "\n",
    "Define $Q_i (w) = \\log \\Big( 1 + \\exp \\big( - y_i x_i^T w \\big) \\Big) + \\frac{\\lambda}{2} \\| w \\|_2^2 $.\n",
    "\n",
    "The stochastic gradient at $w$ is $g_i = \\frac{\\partial Q_i }{ \\partial w} = -\\frac{y_i x_i }{1 + \\exp ( y_i x_i^T w)} + \\lambda w$."
   ]
  },
  {
   "cell_type": "code",
   "execution_count": 10,
   "metadata": {},
   "outputs": [],
   "source": [
    "# Calculate the objective Q_i and the gradient of Q_i\n",
    "# Inputs:\n",
    "#     w: d-by-1 matrix\n",
    "#     xi: 1-by-d matrix\n",
    "#     yi: scalar\n",
    "#     lam: scalar, the regularization parameter\n",
    "# Return:\n",
    "#     obj: scalar, the objective Q_i\n",
    "#     g: d-by-1 matrix, gradient of Q_i\n",
    "def stochastic_objective_gradient(w, xi, yi, lam):\n",
    "    yx = yi * xi # 1-by-d matrix\n",
    "    yxw = float(numpy.dot(yx, w)) # scalar\n",
    "    \n",
    "    # calculate objective function Q_i\n",
    "    loss = numpy.log(1 + numpy.exp(-yxw)) # scalar\n",
    "    reg = lam / 2 * numpy.sum(w * w) # scalar\n",
    "    obj = loss + reg\n",
    "    \n",
    "    # calculate stochastic gradient\n",
    "    g_loss = -yx.T / (1 + numpy.exp(yxw)) # d-by-1 matrix\n",
    "    g = g_loss + lam * w # d-by-1 matrix\n",
    "    \n",
    "    return obj, g"
   ]
  },
  {
   "cell_type": "code",
   "execution_count": 11,
   "metadata": {},
   "outputs": [],
   "source": [
    "# SGD for solving logistic regression\n",
    "# Inputs:\n",
    "#     x: n-by-d matrix\n",
    "#     y: n-by-1 matrix\n",
    "#     lam: scalar, the regularization parameter\n",
    "#     stepsize: scalar\n",
    "#     max_epoch: integer, the maximal epochs\n",
    "#     w: d-by-1 matrix, initialization of w\n",
    "# Return:\n",
    "#     w: the solution\n",
    "#     objvals: record of each iteration's objective value\n",
    "def sgd(x, y, lam, stepsize, max_epoch=100, w=None):\n",
    "    n, d = x.shape\n",
    "    objvals = numpy.zeros(max_epoch) # store the objective values\n",
    "    if w is None:\n",
    "        w = numpy.zeros((d, 1)) # zero initialization\n",
    "    \n",
    "    for t in range(max_epoch):\n",
    "        # randomly shuffle the samples\n",
    "        rand_indices = numpy.random.permutation(n)\n",
    "        x_rand = x[rand_indices, :]\n",
    "        y_rand = y[rand_indices\n",
    "        objval = 0 # accumulate the objective values\n",
    "        for i in range(n):\n",
    "            xi = x_rand[i, :] # 1-by-d matrix\n",
    "            yi = float(y_rand[i, :]) # scalar\n",
    "            obj, g = stochastic_objective_gradient(w, xi, yi, lam)\n",
    "            objval += obj\n",
    "            w -= stepsize * g\n",
    "        \n",
    "        stepsize *= 0.9 # decrease step size\n",
    "        objval /= n\n",
    "        objvals[t] = objval\n",
    "        print('Objective value at epoch t=' + str(t) + ' is ' + str(objval))\n",
    "    \n",
    "    return w, objvals"
   ]
  },
  {
   "cell_type": "markdown",
   "metadata": {},
   "source": [
    "Run SGD."
   ]
  },
  {
   "cell_type": "code",
   "execution_count": 12,
   "metadata": {},
   "outputs": [
    {
     "name": "stdout",
     "output_type": "stream",
     "text": [
      "Objective value at epoch t=0 is 0.526912212337405\n",
      "Objective value at epoch t=1 is 0.517097872252076\n",
      "Objective value at epoch t=2 is 0.5111619868682185\n",
      "Objective value at epoch t=3 is 0.5106461634742435\n",
      "Objective value at epoch t=4 is 0.5070579724091615\n",
      "Objective value at epoch t=5 is 0.49522852939926104\n",
      "Objective value at epoch t=6 is 0.496566709746315\n",
      "Objective value at epoch t=7 is 0.4939087105397276\n",
      "Objective value at epoch t=8 is 0.4937304340765573\n",
      "Objective value at epoch t=9 is 0.49176684365650314\n",
      "Objective value at epoch t=10 is 0.49081446489453145\n",
      "Objective value at epoch t=11 is 0.4857364218576258\n",
      "Objective value at epoch t=12 is 0.4853996147242177\n",
      "Objective value at epoch t=13 is 0.48197535447526707\n",
      "Objective value at epoch t=14 is 0.4842596632001512\n",
      "Objective value at epoch t=15 is 0.4829363969657091\n",
      "Objective value at epoch t=16 is 0.4784522150565363\n",
      "Objective value at epoch t=17 is 0.4805213322113017\n",
      "Objective value at epoch t=18 is 0.47921896162036753\n",
      "Objective value at epoch t=19 is 0.47794535914605885\n",
      "Objective value at epoch t=20 is 0.47802467356654227\n",
      "Objective value at epoch t=21 is 0.47691812681153295\n",
      "Objective value at epoch t=22 is 0.47653046953735656\n",
      "Objective value at epoch t=23 is 0.4755046443005\n",
      "Objective value at epoch t=24 is 0.475328152528144\n",
      "Objective value at epoch t=25 is 0.47328276803585706\n",
      "Objective value at epoch t=26 is 0.47462287011518\n",
      "Objective value at epoch t=27 is 0.47386196802534586\n",
      "Objective value at epoch t=28 is 0.47346281647372496\n",
      "Objective value at epoch t=29 is 0.4731826070662878\n",
      "Objective value at epoch t=30 is 0.47280198553958963\n",
      "Objective value at epoch t=31 is 0.47252319480856525\n",
      "Objective value at epoch t=32 is 0.4723279524105212\n",
      "Objective value at epoch t=33 is 0.4719481289581977\n",
      "Objective value at epoch t=34 is 0.4718179268950477\n",
      "Objective value at epoch t=35 is 0.471663530510564\n",
      "Objective value at epoch t=36 is 0.4714375240085058\n",
      "Objective value at epoch t=37 is 0.4712844436548645\n",
      "Objective value at epoch t=38 is 0.471177727597109\n",
      "Objective value at epoch t=39 is 0.4710116682163171\n",
      "Objective value at epoch t=40 is 0.470905671873685\n",
      "Objective value at epoch t=41 is 0.4708183975292071\n",
      "Objective value at epoch t=42 is 0.47073338521918184\n",
      "Objective value at epoch t=43 is 0.47063053915947056\n",
      "Objective value at epoch t=44 is 0.47056670153736035\n",
      "Objective value at epoch t=45 is 0.4704846953885779\n",
      "Objective value at epoch t=46 is 0.4704334689669004\n",
      "Objective value at epoch t=47 is 0.47037622783219024\n",
      "Objective value at epoch t=48 is 0.47032471615244587\n",
      "Objective value at epoch t=49 is 0.4702761883134582\n",
      "Objective value at epoch t=50 is 0.4702364222567833\n",
      "Objective value at epoch t=51 is 0.4701976549030138\n",
      "Objective value at epoch t=52 is 0.4701642415100225\n",
      "Objective value at epoch t=53 is 0.47013494568888914\n",
      "Objective value at epoch t=54 is 0.470107351864515\n",
      "Objective value at epoch t=55 is 0.4700819408883432\n",
      "Objective value at epoch t=56 is 0.4700600178045812\n",
      "Objective value at epoch t=57 is 0.4700410789416389\n",
      "Objective value at epoch t=58 is 0.47002266573650314\n",
      "Objective value at epoch t=59 is 0.4700068577365494\n",
      "Objective value at epoch t=60 is 0.4699922233194118\n",
      "Objective value at epoch t=61 is 0.4699792143652461\n",
      "Objective value at epoch t=62 is 0.4699672935248416\n",
      "Objective value at epoch t=63 is 0.46995660370418035\n",
      "Objective value at epoch t=64 is 0.4699469955856303\n",
      "Objective value at epoch t=65 is 0.4699382884961138\n",
      "Objective value at epoch t=66 is 0.46993050165893485\n",
      "Objective value at epoch t=67 is 0.4699235391116402\n",
      "Objective value at epoch t=68 is 0.46991707424411944\n",
      "Objective value at epoch t=69 is 0.469911604018692\n",
      "Objective value at epoch t=70 is 0.46990647986276024\n",
      "Objective value at epoch t=71 is 0.46990187870093275\n",
      "Objective value at epoch t=72 is 0.4698977355101319\n",
      "Objective value at epoch t=73 is 0.46989402713282946\n",
      "Objective value at epoch t=74 is 0.4698906746537987\n",
      "Objective value at epoch t=75 is 0.4698876528052221\n",
      "Objective value at epoch t=76 is 0.46988494639969397\n",
      "Objective value at epoch t=77 is 0.4698824995192671\n",
      "Objective value at epoch t=78 is 0.46988028221968703\n",
      "Objective value at epoch t=79 is 0.46987831955875237\n",
      "Objective value at epoch t=80 is 0.46987653631513054\n",
      "Objective value at epoch t=81 is 0.46987493088403964\n",
      "Objective value at epoch t=82 is 0.469873483800772\n",
      "Objective value at epoch t=83 is 0.4698721898346552\n",
      "Objective value at epoch t=84 is 0.4698710194448612\n",
      "Objective value at epoch t=85 is 0.46986996694848904\n",
      "Objective value at epoch t=86 is 0.469869019198891\n",
      "Objective value at epoch t=87 is 0.4698681679463726\n",
      "Objective value at epoch t=88 is 0.46986739814501755\n",
      "Objective value at epoch t=89 is 0.46986670942795355\n",
      "Objective value at epoch t=90 is 0.4698660881503578\n",
      "Objective value at epoch t=91 is 0.46986552832593836\n",
      "Objective value at epoch t=92 is 0.4698650249061001\n",
      "Objective value at epoch t=93 is 0.46986457192916803\n",
      "Objective value at epoch t=94 is 0.469864163622937\n",
      "Objective value at epoch t=95 is 0.46986379695078034\n",
      "Objective value at epoch t=96 is 0.4698634664307206\n",
      "Objective value at epoch t=97 is 0.469863168944057\n",
      "Objective value at epoch t=98 is 0.46986290151576265\n",
      "Objective value at epoch t=99 is 0.46986266063109206\n"
     ]
    }
   ],
   "source": [
    "lam = 1E-6\n",
    "stepsize = 0.1\n",
    "w, objvals_sgd = sgd(x_train, y_train, lam, stepsize)"
   ]
  },
  {
   "cell_type": "markdown",
   "metadata": {},
   "source": [
    "# 4. Compare GD with SGD\n",
    "\n",
    "Plot objective function values against epochs."
   ]
  },
  {
   "cell_type": "code",
   "execution_count": 20,
   "metadata": {},
   "outputs": [
    {
     "data": {
      "image/png": "[encoded data removed]",
      "text/plain": [
       "<Figure size 600x400 with 1 Axes>"
      ]
     },
     "metadata": {},
     "output_type": "display_data"
    }
   ],
   "source": [
    "import matplotlib.pyplot as plt\n",
    "%matplotlib inline\n",
    "\n",
    "fig = plt.figure(figsize=(6, 4))\n",
    "\n",
    "epochs_gd = range(len(objvals_gd))\n",
    "epochs_sgd = range(len(objvals_sgd))\n",
    "\n",
    "line0, = plt.plot(epochs_gd, objvals_gd, '--b', linewidth=4)\n",
    "line1, = plt.plot(epochs_sgd, objvals_sgd, '-r', linewidth=2)\n",
    "plt.xlabel('Epochs', fontsize=20)\n",
    "plt.ylabel('Objective Value', fontsize=20)\n",
    "plt.xticks(fontsize=16)\n",
    "plt.yticks(fontsize=16)\n",
    "plt.legend([line0, line1], ['GD', 'SGD'], fontsize=20)\n",
    "plt.tight_layout()\n",
    "plt.show()\n",
    "fig.savefig('compare_gd_sgd.pdf', format='pdf', dpi=1200)"
   ]
  },
  {
   "cell_type": "markdown",
   "metadata": {},
   "source": [
    "# 5. Prediction"
   ]
  },
  {
   "cell_type": "code",
   "execution_count": 21,
   "metadata": {},
   "outputs": [],
   "source": [
    "# Predict class label\n",
    "# Inputs:\n",
    "#     w: d-by-1 matrix\n",
    "#     X: m-by-d matrix\n",
    "# Return:\n",
    "#     f: m-by-1 matrix, the predictions\n",
    "def predict(w, X):\n",
    "    xw = numpy.dot(X, w)\n",
    "    f = numpy.sign(xw)\n",
    "    return f"
   ]
  },
  {
   "cell_type": "code",
   "execution_count": 22,
   "metadata": {},
   "outputs": [
    {
     "name": "stdout",
     "output_type": "stream",
     "text": [
      "Training classification error is 0.2234375\n"
     ]
    }
   ],
   "source": [
    "# evaluate training error\n",
    "f_train = predict(w, x_train)\n",
    "diff = numpy.abs(f_train - y_train) / 2\n",
    "error_train = numpy.mean(diff)\n",
    "print('Training classification error is ' + str(error_train))"
   ]
  },
  {
   "cell_type": "code",
   "execution_count": 23,
   "metadata": {},
   "outputs": [
    {
     "name": "stdout",
     "output_type": "stream",
     "text": [
      "Test classification error is 0.203125\n"
     ]
    }
   ],
   "source": [
    "# evaluate test error\n",
    "f_test = predict(w, x_test)\n",
    "diff = numpy.abs(f_test - y_test) / 2\n",
    "error_test = numpy.mean(diff)\n",
    "print('Test classification error is ' + str(error_test))"
   ]
  },
  {
   "cell_type": "markdown",
   "metadata": {},
   "source": [
    "# 6. Mini-batch SGD (fill the code)\n",
    "\n"
   ]
  },
  {
   "cell_type": "markdown",
   "metadata": {},
   "source": [
    "## 6.1. Compute the objective $Q_I$ and its gradient using a batch of samples\n",
    "\n",
    "Define $Q_I (w) = \\frac{1}{b} \\sum_{i \\in I} \\log \\Big( 1 + \\exp \\big( - y_i x_i^T w \\big) \\Big) + \\frac{\\lambda}{2} \\| w \\|_2^2 $, where $I$ is a set containing $b$ indices randomly drawn from $\\{ 1, \\cdots , n \\}$ without replacement.\n",
    "\n",
    "The stochastic gradient at $w$ is $g_I = \\frac{\\partial Q_I }{ \\partial w} = \\frac{1}{b} \\sum_{i \\in I} \\frac{- y_i x_i }{1 + \\exp ( y_i x_i^T w)} + \\lambda w$."
   ]
  },
  {
   "cell_type": "code",
   "execution_count": 81,
   "metadata": {},
   "outputs": [],
   "source": [
    "# Calculate the objective Q_I and the gradient of Q_I\n",
    "# Inputs:\n",
    "#     w: d-by-1 matrix\n",
    "#     xi: b-by-d matrix\n",
    "#     yi: b-by-1 matrix\n",
    "#     lam: scalar, the regularization parameter\n",
    "#     b: integer, the batch size\n",
    "# Return:\n",
    "#     obj: scalar, the objective Q_i\n",
    "#     g: d-by-1 matrix, gradient of Q_i\n",
    "def mb_stochastic_objective_gradient(w, xi, yi, lam, b):\n",
    "    # Fill the function\n",
    "    # Follow the implementation of stochastic_objective_gradient\n",
    "    # Use matrix-vector multiplication; do not use FOR LOOP of vector-vector multiplications\n",
    "    # Calculate the predicted values (hypothesis)\n",
    "    n, d = xi.shape\n",
    "    yx = numpy.multiply(yi, xi) # n-by-d matrix\n",
    "    yxw = numpy.dot(yx, w)      # n-by-1 matrix\n",
    "    \n",
    "    # calculate objective function Q_i\n",
    "    loss = numpy.mean( numpy.log( 1 + numpy.exp(-yxw))) # scalar\n",
    "    reg = lam / 2 * numpy.sum(w * w) # scalar (regularization term)\n",
    "    obj = loss + reg # scalar\n",
    "    \n",
    "    # calculate mini-batch stochastic gradient dQ_i\n",
    "    g_loss0 = -yx / (1+ numpy.exp(yxw)) # b-by-d matrix (summation section)\n",
    "    g_loss = numpy.mean((g_loss0), axis=0).reshape(d,1) # d-by-1 matrix\n",
    "    g = g_loss + lam * w # d-by-1 matrix\n",
    "    \n",
    "    return obj, g"
   ]
  },
  {
   "cell_type": "markdown",
   "metadata": {},
   "source": [
    "## 6.2. Implement mini-batch SGD\n",
    "\n",
    "Hints:\n",
    "1. In every epoch, randomly permute the $n$ samples (just like SGD).\n",
    "2. Each epoch has $\\frac{n}{b}$ iterations. In every iteration, use $b$ samples, and compute the gradient and objective using the ``mb_stochastic_objective_gradient`` function. In the next iteration, use the next $b$ samples, and so on.\n"
   ]
  },
  {
   "cell_type": "code",
   "execution_count": 117,
   "metadata": {},
   "outputs": [],
   "source": [
    "import numpy as np\n",
    "\n",
    "# Mini-Batch SGD for solving logistic regression\n",
    "# Inputs:\n",
    "#     x: n-by-d matrix\n",
    "#     y: n-by-1 matrix\n",
    "#     lam: scalar, the regularization parameter\n",
    "#     b: integer, the batch size\n",
    "#     stepsize: scalar\n",
    "#     max_epoch: integer, the maximal epochs\n",
    "#     w: d-by-1 matrix, initialization of w\n",
    "# Return:\n",
    "#     w: the solution\n",
    "#     objvals: record of each iteration's objective value\n",
    "def mb_sgd(x, y, lam, b, stepsize, max_epoch=100, w=None):\n",
    "    # Fill the function\n",
    "    # Follow the implementation of sgd\n",
    "    # Record one objective value per epoch (not per iteration!)\n",
    "    ...\n",
    "    n, d = x.shape\n",
    "    objvals = numpy.zeros(max_epoch) # store the objective values\n",
    "    if w is None:\n",
    "        w = numpy.zeros((d, 1)) # zero initialization\n",
    "    \n",
    "    for epoch in range(max_epoch):\n",
    "        rand_indices = numpy.random.permutation(n)\n",
    "        x_rand = x[rand_indices]\n",
    "        y_rand = y[rand_indices]\n",
    "        \n",
    "        objval = 0 # accumulate the objective values\n",
    "        for i in range(0, n, b):\n",
    "            # Select a mini-batch\n",
    "            xi = x_rand[i:i + b]\n",
    "            yi = y_rand[i:i + b]\n",
    "            \n",
    "                        \n",
    "            # Calculate the gradient of the log-likelihood\n",
    "            obj, g = mb_stochastic_objective_gradient(w, xi, yi, lam, b)\n",
    "            \n",
    "            objval += obj\n",
    "            w -= stepsize * g\n",
    "    \n",
    "        stepsize *= 0.9 # decrease step size\n",
    "        objval /= (n/b)\n",
    "        objvals[epoch] = objval\n",
    "        print('Objective value at epoch t=' + str(epoch) + ' is ' + str(objval))\n",
    "    \n",
    "    return w, objvals"
   ]
  },
  {
   "cell_type": "markdown",
   "metadata": {},
   "source": [
    "## 6.3. Run MB-SGD"
   ]
  },
  {
   "cell_type": "code",
   "execution_count": 118,
   "metadata": {},
   "outputs": [
    {
     "name": "stdout",
     "output_type": "stream",
     "text": [
      "Objective value at epoch t=0 is 0.5456472370512936\n",
      "Objective value at epoch t=1 is 0.48628021780049535\n",
      "Objective value at epoch t=2 is 0.47938209057841397\n",
      "Objective value at epoch t=3 is 0.47635481428387827\n",
      "Objective value at epoch t=4 is 0.4761664298654253\n",
      "Objective value at epoch t=5 is 0.47526188707578465\n",
      "Objective value at epoch t=6 is 0.4751779510377716\n",
      "Objective value at epoch t=7 is 0.47401809321931176\n",
      "Objective value at epoch t=8 is 0.4734928243179649\n",
      "Objective value at epoch t=9 is 0.47344940181734535\n",
      "Objective value at epoch t=10 is 0.47320771697135156\n",
      "Objective value at epoch t=11 is 0.47266083734007075\n",
      "Objective value at epoch t=12 is 0.4722328181111354\n",
      "Objective value at epoch t=13 is 0.47237030590503537\n",
      "Objective value at epoch t=14 is 0.4718060254177904\n",
      "Objective value at epoch t=15 is 0.4718765296182762\n",
      "Objective value at epoch t=16 is 0.47176819289980887\n",
      "Objective value at epoch t=17 is 0.47166505326091723\n",
      "Objective value at epoch t=18 is 0.47131705061955353\n",
      "Objective value at epoch t=19 is 0.47105409220750316\n",
      "Objective value at epoch t=20 is 0.47105884321233715\n",
      "Objective value at epoch t=21 is 0.47102142279218695\n",
      "Objective value at epoch t=22 is 0.47073842086676276\n",
      "Objective value at epoch t=23 is 0.4707164952998005\n",
      "Objective value at epoch t=24 is 0.47062552006998165\n",
      "Objective value at epoch t=25 is 0.4705813843030688\n",
      "Objective value at epoch t=26 is 0.47056262999677606\n",
      "Objective value at epoch t=27 is 0.47049855454197714\n",
      "Objective value at epoch t=28 is 0.47036110676844584\n",
      "Objective value at epoch t=29 is 0.4702946947302961\n",
      "Objective value at epoch t=30 is 0.47027140591457145\n",
      "Objective value at epoch t=31 is 0.47026760778321347\n",
      "Objective value at epoch t=32 is 0.47020813895105606\n",
      "Objective value at epoch t=33 is 0.4701663286155363\n",
      "Objective value at epoch t=34 is 0.4701518983522951\n",
      "Objective value at epoch t=35 is 0.4701093616412814\n",
      "Objective value at epoch t=36 is 0.4700780521662267\n",
      "Objective value at epoch t=37 is 0.47006113845383257\n",
      "Objective value at epoch t=38 is 0.4700340747190695\n",
      "Objective value at epoch t=39 is 0.4700236085771016\n",
      "Objective value at epoch t=40 is 0.469984873931866\n",
      "Objective value at epoch t=41 is 0.46998115037182775\n",
      "Objective value at epoch t=42 is 0.46998295666714585\n",
      "Objective value at epoch t=43 is 0.4699656928861146\n",
      "Objective value at epoch t=44 is 0.4699460330695316\n",
      "Objective value at epoch t=45 is 0.4699518774292334\n",
      "Objective value at epoch t=46 is 0.4699473151191179\n",
      "Objective value at epoch t=47 is 0.4699334114534276\n",
      "Objective value at epoch t=48 is 0.4699211509452795\n",
      "Objective value at epoch t=49 is 0.46992033768772973\n",
      "Objective value at epoch t=50 is 0.4699118155783716\n",
      "Objective value at epoch t=51 is 0.46990758912248404\n",
      "Objective value at epoch t=52 is 0.4699029519948447\n",
      "Objective value at epoch t=53 is 0.46989965603465034\n",
      "Objective value at epoch t=54 is 0.4698964932886602\n",
      "Objective value at epoch t=55 is 0.46989286060618596\n",
      "Objective value at epoch t=56 is 0.4698865951898979\n",
      "Objective value at epoch t=57 is 0.46988491956401834\n",
      "Objective value at epoch t=58 is 0.4698822783743892\n",
      "Objective value at epoch t=59 is 0.46988148104105365\n",
      "Objective value at epoch t=60 is 0.46987992125477984\n",
      "Objective value at epoch t=61 is 0.46987767045331336\n",
      "Objective value at epoch t=62 is 0.46987434757954916\n",
      "Objective value at epoch t=63 is 0.4698733602713122\n",
      "Objective value at epoch t=64 is 0.4698729371407354\n",
      "Objective value at epoch t=65 is 0.4698706970694415\n",
      "Objective value at epoch t=66 is 0.4698703149591642\n",
      "Objective value at epoch t=67 is 0.46987006196559616\n",
      "Objective value at epoch t=68 is 0.46986985674125126\n",
      "Objective value at epoch t=69 is 0.4698676292259859\n",
      "Objective value at epoch t=70 is 0.4698677574860784\n",
      "Objective value at epoch t=71 is 0.469866671220393\n",
      "Objective value at epoch t=72 is 0.4698665682209957\n",
      "Objective value at epoch t=73 is 0.4698657360591092\n",
      "Objective value at epoch t=74 is 0.4698653924232058\n",
      "Objective value at epoch t=75 is 0.4698645702718115\n",
      "Objective value at epoch t=76 is 0.46986426307266455\n",
      "Objective value at epoch t=77 is 0.46986371643349856\n",
      "Objective value at epoch t=78 is 0.4698639328434314\n",
      "Objective value at epoch t=79 is 0.46986360154619133\n",
      "Objective value at epoch t=80 is 0.46986320507771123\n",
      "Objective value at epoch t=81 is 0.469863186861295\n",
      "Objective value at epoch t=82 is 0.46986254668111094\n",
      "Objective value at epoch t=83 is 0.4698625047783813\n",
      "Objective value at epoch t=84 is 0.4698623351965332\n",
      "Objective value at epoch t=85 is 0.46986223036996827\n",
      "Objective value at epoch t=86 is 0.4698621887265267\n",
      "Objective value at epoch t=87 is 0.46986197467510654\n",
      "Objective value at epoch t=88 is 0.46986205105393264\n",
      "Objective value at epoch t=89 is 0.4698618474412701\n",
      "Objective value at epoch t=90 is 0.46986183765818457\n",
      "Objective value at epoch t=91 is 0.46986177752800196\n",
      "Objective value at epoch t=92 is 0.469861664341283\n",
      "Objective value at epoch t=93 is 0.46986153604442443\n",
      "Objective value at epoch t=94 is 0.4698614890211689\n",
      "Objective value at epoch t=95 is 0.4698614452391648\n",
      "Objective value at epoch t=96 is 0.4698613558763987\n",
      "Objective value at epoch t=97 is 0.46986134974586075\n",
      "Objective value at epoch t=98 is 0.46986130137928955\n",
      "Objective value at epoch t=99 is 0.4698613025133757\n"
     ]
    }
   ],
   "source": [
    "# MB-SGD with batch size b=8\n",
    "lam = 1E-6 # do not change\n",
    "b = 8 # do not change\n",
    "stepsize = 0.11 # you must tune this parameter\n",
    "\n",
    "w, objvals_mbsgd8 = mb_sgd(x_train, y_train, lam, b, stepsize)"
   ]
  },
  {
   "cell_type": "code",
   "execution_count": 119,
   "metadata": {},
   "outputs": [
    {
     "name": "stdout",
     "output_type": "stream",
     "text": [
      "Objective value at epoch t=0 is 0.6500055700382501\n",
      "Objective value at epoch t=1 is 0.5866001908172642\n",
      "Objective value at epoch t=2 is 0.5543732124574288\n",
      "Objective value at epoch t=3 is 0.5357448056442485\n",
      "Objective value at epoch t=4 is 0.5237128297082787\n",
      "Objective value at epoch t=5 is 0.5150904967699029\n",
      "Objective value at epoch t=6 is 0.508928784505858\n",
      "Objective value at epoch t=7 is 0.5042813907917115\n",
      "Objective value at epoch t=8 is 0.5005314953149307\n",
      "Objective value at epoch t=9 is 0.49786925744351274\n",
      "Objective value at epoch t=10 is 0.4956209778304032\n",
      "Objective value at epoch t=11 is 0.49383184804697733\n",
      "Objective value at epoch t=12 is 0.4921536158774952\n",
      "Objective value at epoch t=13 is 0.4908973143255834\n",
      "Objective value at epoch t=14 is 0.48986969825563575\n",
      "Objective value at epoch t=15 is 0.488987691674323\n",
      "Objective value at epoch t=16 is 0.48812419071012\n",
      "Objective value at epoch t=17 is 0.4875123056012895\n",
      "Objective value at epoch t=18 is 0.4868893981205523\n",
      "Objective value at epoch t=19 is 0.48646409376336885\n",
      "Objective value at epoch t=20 is 0.48599970367733414\n",
      "Objective value at epoch t=21 is 0.48558470285922484\n",
      "Objective value at epoch t=22 is 0.48526696542006853\n",
      "Objective value at epoch t=23 is 0.4849966396142519\n",
      "Objective value at epoch t=24 is 0.4847331621759877\n",
      "Objective value at epoch t=25 is 0.48449409381941394\n",
      "Objective value at epoch t=26 is 0.48430194959899386\n",
      "Objective value at epoch t=27 is 0.4841191680973904\n",
      "Objective value at epoch t=28 is 0.48397382466862604\n",
      "Objective value at epoch t=29 is 0.48381177193652275\n",
      "Objective value at epoch t=30 is 0.4836856336457479\n",
      "Objective value at epoch t=31 is 0.48358238446526264\n",
      "Objective value at epoch t=32 is 0.4834750471913927\n",
      "Objective value at epoch t=33 is 0.48339019840990555\n",
      "Objective value at epoch t=34 is 0.48330801170410737\n",
      "Objective value at epoch t=35 is 0.48324322710055057\n",
      "Objective value at epoch t=36 is 0.4831698496339353\n",
      "Objective value at epoch t=37 is 0.4831154410086593\n",
      "Objective value at epoch t=38 is 0.4830653605267252\n",
      "Objective value at epoch t=39 is 0.48301629066521834\n",
      "Objective value at epoch t=40 is 0.48297572383563353\n",
      "Objective value at epoch t=41 is 0.482939681398362\n",
      "Objective value at epoch t=42 is 0.4829082942284767\n",
      "Objective value at epoch t=43 is 0.48287596437739333\n",
      "Objective value at epoch t=44 is 0.48285085705520164\n",
      "Objective value at epoch t=45 is 0.48282554172541925\n",
      "Objective value at epoch t=46 is 0.48280226536329873\n",
      "Objective value at epoch t=47 is 0.48278302193613876\n",
      "Objective value at epoch t=48 is 0.48276714796346337\n",
      "Objective value at epoch t=49 is 0.4827502289342506\n",
      "Objective value at epoch t=50 is 0.4827366174525095\n",
      "Objective value at epoch t=51 is 0.4827233076152567\n",
      "Objective value at epoch t=52 is 0.4827136987427935\n",
      "Objective value at epoch t=53 is 0.48270223839613546\n",
      "Objective value at epoch t=54 is 0.4826939305263617\n",
      "Objective value at epoch t=55 is 0.4826853495093375\n",
      "Objective value at epoch t=56 is 0.4826776966969211\n",
      "Objective value at epoch t=57 is 0.48267111355565684\n",
      "Objective value at epoch t=58 is 0.48266442611062776\n",
      "Objective value at epoch t=59 is 0.48266000838779294\n",
      "Objective value at epoch t=60 is 0.48265512163398805\n",
      "Objective value at epoch t=61 is 0.4826505069375182\n",
      "Objective value at epoch t=62 is 0.4826459585003892\n",
      "Objective value at epoch t=63 is 0.4826427981071972\n",
      "Objective value at epoch t=64 is 0.4826392897440307\n",
      "Objective value at epoch t=65 is 0.482636823080316\n",
      "Objective value at epoch t=66 is 0.48263390423287494\n",
      "Objective value at epoch t=67 is 0.48263156514616395\n",
      "Objective value at epoch t=68 is 0.482629369076695\n",
      "Objective value at epoch t=69 is 0.48262769228110053\n",
      "Objective value at epoch t=70 is 0.4826260813206069\n",
      "Objective value at epoch t=71 is 0.48262436294843225\n",
      "Objective value at epoch t=72 is 0.48262313639751453\n",
      "Objective value at epoch t=73 is 0.48262177940091344\n",
      "Objective value at epoch t=74 is 0.48262056274411574\n",
      "Objective value at epoch t=75 is 0.4826196507686974\n",
      "Objective value at epoch t=76 is 0.48261883392097304\n",
      "Objective value at epoch t=77 is 0.48261792876199205\n",
      "Objective value at epoch t=78 is 0.48261729189597125\n",
      "Objective value at epoch t=79 is 0.4826166012964153\n",
      "Objective value at epoch t=80 is 0.48261598927855676\n",
      "Objective value at epoch t=81 is 0.48261550519318897\n",
      "Objective value at epoch t=82 is 0.4826150225037521\n",
      "Objective value at epoch t=83 is 0.482614630494945\n",
      "Objective value at epoch t=84 is 0.4826141495443023\n",
      "Objective value at epoch t=85 is 0.48261380647459795\n",
      "Objective value at epoch t=86 is 0.4826135160555095\n",
      "Objective value at epoch t=87 is 0.48261323277819396\n",
      "Objective value at epoch t=88 is 0.48261294191267357\n",
      "Objective value at epoch t=89 is 0.48261272308063025\n",
      "Objective value at epoch t=90 is 0.48261253621284705\n",
      "Objective value at epoch t=91 is 0.48261235388232393\n",
      "Objective value at epoch t=92 is 0.4826121678847522\n",
      "Objective value at epoch t=93 is 0.4826120244628472\n",
      "Objective value at epoch t=94 is 0.4826119008610257\n",
      "Objective value at epoch t=95 is 0.48261176876622064\n",
      "Objective value at epoch t=96 is 0.4826116662830301\n",
      "Objective value at epoch t=97 is 0.48261156482186796\n",
      "Objective value at epoch t=98 is 0.48261147140435634\n",
      "Objective value at epoch t=99 is 0.48261139090788746\n"
     ]
    }
   ],
   "source": [
    "# MB-SGD with batch size b=64\n",
    "lam = 1E-6 # do not change\n",
    "b = 64 # do not change\n",
    "stepsize = .1 # you must tune this parameter\n",
    "\n",
    "w, objvals_mbsgd64 = mb_sgd(x_train, y_train, lam, b, stepsize)"
   ]
  },
  {
   "cell_type": "markdown",
   "metadata": {},
   "source": [
    "# 7. Plot and compare GD, SGD, and MB-SGD"
   ]
  },
  {
   "cell_type": "markdown",
   "metadata": {},
   "source": [
    "You are required to compare the following algorithms:\n",
    "\n",
    "- Gradient descent (GD)\n",
    "\n",
    "- SGD\n",
    "\n",
    "- MB-SGD with b=8\n",
    "\n",
    "- MB-SGD with b=64\n",
    "\n",
    "Follow the code in Section 4 to plot ```objective function value``` against ```epochs```. There should be four curves in the plot; each curve corresponds to one algorithm."
   ]
  },
  {
   "cell_type": "markdown",
   "metadata": {},
   "source": [
    "Hint: Logistic regression with $\\ell_2$-norm regularization is a strongly convex optimization problem. All the algorithms will converge to the same solution. **In the end, the ``objective function value`` of the 4 algorithms will be the same. If not the same, your implementation must be wrong. Do NOT submit wrong code and wrong result!**"
   ]
  },
  {
   "cell_type": "code",
   "execution_count": 120,
   "metadata": {},
   "outputs": [
    {
     "data": {
      "image/png": "[encoded data removed]",
      "text/plain": [
       "<Figure size 600x400 with 1 Axes>"
      ]
     },
     "metadata": {},
     "output_type": "display_data"
    }
   ],
   "source": [
    "fig = plt.figure(figsize=(6, 4))\n",
    "\n",
    "epochs_mbsgd64 = range(len(objvals_mbsgd64))\n",
    "epochs_mbsgd8 = range(len(objvals_mbsgd8))\n",
    "\n",
    "line0, = plt.plot(epochs_gd, objvals_gd, '--b', linewidth=4)\n",
    "line1, = plt.plot(epochs_sgd, objvals_sgd, '-r', linewidth=2)\n",
    "line2, = plt.plot(epochs_mbsgd64, objvals_mbsgd64, '--g', linewidth=4)\n",
    "line3, = plt.plot(epochs_mbsgd8, objvals_mbsgd8, '-y', linewidth=2)\n",
    "plt.xlabel('Epochs', fontsize=20)\n",
    "plt.ylabel('Objective Value', fontsize=20)\n",
    "plt.xticks(fontsize=16)\n",
    "plt.yticks(fontsize=16)\n",
    "plt.legend([line0, line1, line2, line3], ['GD', 'SGD', 'MBSGD64', 'MBSGD8'], fontsize=20)\n",
    "plt.tight_layout()\n",
    "plt.show()\n",
    "fig.savefig('compare_gd_sgd.pdf', format='pdf', dpi=1200)"
   ]
  },
  {
   "cell_type": "markdown",
   "metadata": {},
   "source": []
  }
 ],
 "metadata": {
  "kernelspec": {
   "display_name": "Python 3 (ipykernel)",
   "language": "python",
   "name": "python3"
  },
  "language_info": {
   "codemirror_mode": {
    "name": "ipython",
    "version": 3
   },
   "file_extension": ".py",
   "mimetype": "text/x-python",
   "name": "python",
   "nbconvert_exporter": "python",
   "pygments_lexer": "ipython3",
   "version": "3.11.1"
  }
 },
 "nbformat": 4,
 "nbformat_minor": 2
}
