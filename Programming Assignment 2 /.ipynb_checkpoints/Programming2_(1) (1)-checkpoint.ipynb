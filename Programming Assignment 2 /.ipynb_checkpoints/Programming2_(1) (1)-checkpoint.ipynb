{
 "cells": [
  {
   "cell_type": "markdown",
   "metadata": {
    "id": "oXJFvjGqX8qz"
   },
   "source": [
    "# Programming Assignment: Build a CNN for image recognition.\n",
    "\n",
    "### Name: Charles Perry\n",
    "\n",
    "\n"
   ]
  },
  {
   "cell_type": "markdown",
   "metadata": {
    "id": "FajdrPI3X8q1"
   },
   "source": [
    "## 0. You will do the following:\n",
    "\n",
    "1. Read, complete, and run the code.\n",
    "\n",
    "2. **Make substantial improvements** to maximize the accuracy.\n",
    "    \n",
    "3. Convert the .IPYNB file to .HTML file.\n",
    "\n",
    "    * The HTML file must contain the code and the output after execution.\n",
    "    \n",
    "    * Missing **the output after execution** will not be graded.\n",
    "\n",
    "\n",
    "4. Upload the .HTML file to your Google Drive, Dropbox, or Github repo. (If you submit the file to Google Drive or Dropbox, you must make the file \"open-access\". The delay caused by \"deny of access\" may result in late penalty.)\n",
    "\n",
    "4. On Canvas, submit the Google Drive/Dropbox/Github link to the HTML file.\n",
    "\n",
    "\n",
    "## Requirements:\n",
    "\n",
    "1. You can use whatever CNN architecture, including VGG, Inception, and ResNet. However, you must build the networks layer by layer. You must NOT import the archetectures from ```keras.applications```.\n",
    "\n",
    "2. Make sure ```BatchNormalization``` is between a ```Conv```/```Dense``` layer and an ```activation``` layer.\n",
    "\n",
    "3. If you want to regularize a ```Conv```/```Dense``` layer, you should place a ```Dropout``` layer **before** the ```Conv```/```Dense``` layer.\n",
    "\n",
    "4. An accuracy above 70% is considered reasonable. An accuracy above 80% is considered good. Without data augmentation, achieving 80% accuracy is difficult.\n",
    "\n",
    "\n",
    "## Google Colab\n",
    "\n",
    "- If you do not have GPU, the training of a CNN can be slow. Google Colab is a good option.\n",
    "\n",
    "- Keep in mind that you must download it as an IPYNB file and then use IPython Notebook to convert it to HTML.\n",
    "\n",
    "- Also keep in mind that the IPYNB and HTML files must contain the outputs. (Otherwise, the instructor will not be able to know the correctness and performance.) Do the followings to keep the outputs.\n",
    "\n",
    "- In Colab, go to ```Runtime``` --> ```Change runtime type``` --> Do NOT check ```Omit code cell output when saving this notebook```. In this way, the downloaded IPYNB file contains the outputs."
   ]
  },
  {
   "cell_type": "markdown",
   "metadata": {
    "id": "wzQfuVu6X8q2"
   },
   "source": [
    "## 1. Data preparation"
   ]
  },
  {
   "cell_type": "markdown",
   "metadata": {
    "id": "lnLbQccJX8q3"
   },
   "source": [
    "### 1.1. Load data\n"
   ]
  },
  {
   "cell_type": "code",
   "execution_count": null,
   "metadata": {
    "colab": {
     "base_uri": "https://localhost:8080/"
    },
    "id": "4gQiL3w3X8q3",
    "outputId": "6cbe35c5-1b7a-41be-fd77-9d04e25762a3"
   },
   "outputs": [
    {
     "name": "stdout",
     "output_type": "stream",
     "text": [
      "Downloading data from https://www.cs.toronto.edu/~kriz/cifar-10-python.tar.gz\n",
      "170498071/170498071 [==============================] - 5s 0us/step\n",
      "shape of x_train: (50000, 32, 32, 3)\n",
      "shape of y_train: (50000, 1)\n",
      "shape of x_test: (10000, 32, 32, 3)\n",
      "shape of y_test: (10000, 1)\n",
      "number of classes: 10\n"
     ]
    }
   ],
   "source": [
    "from keras.datasets import cifar10\n",
    "import numpy\n",
    "\n",
    "(x_train, y_train), (x_test, y_test) = cifar10.load_data()\n",
    "\n",
    "print('shape of x_train: ' + str(x_train.shape))\n",
    "print('shape of y_train: ' + str(y_train.shape))\n",
    "print('shape of x_test: ' + str(x_test.shape))\n",
    "print('shape of y_test: ' + str(y_test.shape))\n",
    "print('number of classes: ' + str(numpy.max(y_train) - numpy.min(y_train) + 1))"
   ]
  },
  {
   "cell_type": "markdown",
   "metadata": {
    "id": "71aQAGgPX8q4"
   },
   "source": [
    "### 1.2. One-hot encode the labels\n",
    "\n",
    "In the input, a label is a scalar in $\\{0, 1, \\cdots , 9\\}$. One-hot encode transform such a scalar to a $10$-dim vector. E.g., a scalar ```y_train[j]=3``` is transformed to the vector ```y_train_vec[j]=[0, 0, 0, 1, 0, 0, 0, 0, 0, 0]```.\n",
    "\n",
    "1. Define a function ```to_one_hot``` that transforms an $n\\times 1$ array to a $n\\times 10$ matrix.\n",
    "\n",
    "2. Apply the function to ```y_train``` and ```y_test```."
   ]
  },
  {
   "cell_type": "code",
   "execution_count": null,
   "metadata": {
    "colab": {
     "base_uri": "https://localhost:8080/"
    },
    "id": "tT7mnaiTX8q4",
    "outputId": "72a75e5e-2d4c-4cec-a4dd-9db04498c7b2"
   },
   "outputs": [
    {
     "name": "stdout",
     "output_type": "stream",
     "text": [
      "Shape of y_train_vec: (50000, 10)\n",
      "Shape of y_test_vec: (10000, 10)\n",
      "[6]\n",
      "[0. 0. 0. 0. 0. 0. 1. 0. 0. 0.]\n"
     ]
    }
   ],
   "source": [
    "import numpy as np\n",
    "def to_one_hot(y, num_class=10):\n",
    "    y_one_hot = np.zeros((y.shape[0], num_class))\n",
    "    y_one_hot[np.arange(y.shape[0]), y.flatten()] = 1\n",
    "    return y_one_hot\n",
    "\n",
    "y_train_vec = to_one_hot(y_train)\n",
    "y_test_vec = to_one_hot(y_test)\n",
    "\n",
    "print('Shape of y_train_vec: ' + str(y_train_vec.shape))\n",
    "print('Shape of y_test_vec: ' + str(y_test_vec.shape))\n",
    "\n",
    "print(y_train[0])\n",
    "print(y_train_vec[0])"
   ]
  },
  {
   "cell_type": "markdown",
   "metadata": {
    "id": "7Mejp5srX8q4"
   },
   "source": [
    "#### Remark: the outputs should be\n",
    "* Shape of y_train_vec: (50000, 10)\n",
    "* Shape of y_test_vec: (10000, 10)\n",
    "* [6]\n",
    "* [0. 0. 0. 0. 0. 0. 1. 0. 0. 0.]"
   ]
  },
  {
   "cell_type": "markdown",
   "metadata": {
    "id": "OF5T15ZyX8q4"
   },
   "source": [
    "### 1.3. Randomly partition the training set to training and validation sets\n",
    "\n",
    "Randomly partition the 50K training samples to 2 sets:\n",
    "* a training set containing 40K samples\n",
    "* a validation set containing 10K samples\n"
   ]
  },
  {
   "cell_type": "code",
   "execution_count": null,
   "metadata": {
    "colab": {
     "base_uri": "https://localhost:8080/"
    },
    "id": "iD6pyLHrX8q5",
    "outputId": "2301afee-849c-4867-83c0-1bbcfdfa6730"
   },
   "outputs": [
    {
     "name": "stdout",
     "output_type": "stream",
     "text": [
      "Shape of x_tr: (40000, 32, 32, 3)\n",
      "Shape of y_tr: (40000, 10)\n",
      "Shape of x_val: (10000, 32, 32, 3)\n",
      "Shape of y_val: (10000, 10)\n"
     ]
    }
   ],
   "source": [
    "rand_indices = numpy.random.permutation(50000)\n",
    "train_indices = rand_indices[0:40000]\n",
    "valid_indices = rand_indices[40000:50000]\n",
    "\n",
    "x_val = x_train[valid_indices, :]\n",
    "y_val = y_train_vec[valid_indices, :]\n",
    "\n",
    "x_tr = x_train[train_indices, :]\n",
    "y_tr = y_train_vec[train_indices, :]\n",
    "\n",
    "print('Shape of x_tr: ' + str(x_tr.shape))\n",
    "print('Shape of y_tr: ' + str(y_tr.shape))\n",
    "print('Shape of x_val: ' + str(x_val.shape))\n",
    "print('Shape of y_val: ' + str(y_val.shape))"
   ]
  },
  {
   "cell_type": "markdown",
   "metadata": {
    "id": "M7LKDMBdX8q5"
   },
   "source": [
    "## 2. Build a CNN and tune its hyper-parameters\n",
    "\n",
    "1. Build a convolutional neural network model\n",
    "2. Use the validation data to tune the hyper-parameters (e.g., network structure, and optimization algorithm)\n",
    "    * Do NOT use test data for hyper-parameter tuning!!!\n",
    "3. Try to achieve a validation accuracy as high as possible."
   ]
  },
  {
   "cell_type": "markdown",
   "metadata": {
    "id": "vWx-E_JkX8q5"
   },
   "source": [
    "### Remark:\n",
    "\n",
    "The following CNN is just an example. You are supposed to make **substantial improvements** such as:\n",
    "* Add more layers.\n",
    "* Use regularizations, e.g., dropout.\n",
    "* Use batch normalization."
   ]
  },
  {
   "cell_type": "code",
   "execution_count": null,
   "metadata": {
    "colab": {
     "base_uri": "https://localhost:8080/"
    },
    "id": "AFaFDVOLX8q5",
    "outputId": "05773372-5222-4801-b327-194b0856d93a"
   },
   "outputs": [
    {
     "name": "stdout",
     "output_type": "stream",
     "text": [
      "Model: \"sequential\"\n",
      "_________________________________________________________________\n",
      " Layer (type)                Output Shape              Param #   \n",
      "=================================================================\n",
      " conv2d (Conv2D)             (None, 32, 32, 32)        896       \n",
      "                                                                 \n",
      " max_pooling2d (MaxPooling2  (None, 16, 16, 32)        0         \n",
      " D)                                                              \n",
      "                                                                 \n",
      " conv2d_1 (Conv2D)           (None, 16, 16, 64)        18496     \n",
      "                                                                 \n",
      " max_pooling2d_1 (MaxPoolin  (None, 8, 8, 64)          0         \n",
      " g2D)                                                            \n",
      "                                                                 \n",
      " flatten (Flatten)           (None, 4096)              0         \n",
      "                                                                 \n",
      " dense (Dense)               (None, 128)               524416    \n",
      "                                                                 \n",
      " dense_1 (Dense)             (None, 10)                1290      \n",
      "                                                                 \n",
      "=================================================================\n",
      "Total params: 545098 (2.08 MB)\n",
      "Trainable params: 545098 (2.08 MB)\n",
      "Non-trainable params: 0 (0.00 Byte)\n",
      "_________________________________________________________________\n"
     ]
    }
   ],
   "source": [
    "from keras.layers import Conv2D, MaxPooling2D, Flatten, Dense\n",
    "from keras.models import Sequential\n",
    "\n",
    "model = Sequential()\n",
    "model.add(Conv2D(32, (3, 3), activation='relu', padding='same', input_shape=(32, 32, 3)))\n",
    "model.add(MaxPooling2D((2, 2)))\n",
    "model.add(Conv2D(64, (3, 3), activation='relu', padding='same'))\n",
    "model.add(MaxPooling2D((2, 2)))\n",
    "model.add(Flatten())\n",
    "model.add(Dense(128, activation='relu'))\n",
    "model.add(Dense(10, activation='softmax'))\n",
    "\n",
    "model.summary()"
   ]
  },
  {
   "cell_type": "code",
   "execution_count": null,
   "metadata": {
    "id": "OA3eNaa8X8q6"
   },
   "outputs": [],
   "source": [
    "from keras import optimizers\n",
    "\n",
    "learning_rate = 1E-5 # to be tuned!\n",
    "\n",
    "model.compile(loss='categorical_crossentropy',\n",
    "              optimizer=optimizers.RMSprop(learning_rate=learning_rate),\n",
    "              metrics=['acc'])"
   ]
  },
  {
   "cell_type": "code",
   "execution_count": null,
   "metadata": {
    "colab": {
     "base_uri": "https://localhost:8080/"
    },
    "id": "kpOPRa2yX8q6",
    "outputId": "24a66223-8577-4bad-c552-66a390f05cdc"
   },
   "outputs": [
    {
     "name": "stdout",
     "output_type": "stream",
     "text": [
      "Epoch 1/10\n",
      "1250/1250 [==============================] - 67s 52ms/step - loss: 5.9569 - acc: 0.2114 - val_loss: 3.7745 - val_acc: 0.2702\n",
      "Epoch 2/10\n",
      "1250/1250 [==============================] - 66s 52ms/step - loss: 3.1044 - acc: 0.3006 - val_loss: 2.7287 - val_acc: 0.3221\n",
      "Epoch 3/10\n",
      "1250/1250 [==============================] - 64s 52ms/step - loss: 2.4237 - acc: 0.3471 - val_loss: 2.3084 - val_acc: 0.3589\n",
      "Epoch 4/10\n",
      "1250/1250 [==============================] - 64s 51ms/step - loss: 2.0898 - acc: 0.3882 - val_loss: 2.0699 - val_acc: 0.3884\n",
      "Epoch 5/10\n",
      "1250/1250 [==============================] - 64s 51ms/step - loss: 1.8770 - acc: 0.4198 - val_loss: 1.9080 - val_acc: 0.4162\n",
      "Epoch 6/10\n",
      "1250/1250 [==============================] - 64s 51ms/step - loss: 1.7348 - acc: 0.4466 - val_loss: 1.8133 - val_acc: 0.4301\n",
      "Epoch 7/10\n",
      "1250/1250 [==============================] - 64s 51ms/step - loss: 1.6296 - acc: 0.4697 - val_loss: 1.7820 - val_acc: 0.4395\n",
      "Epoch 8/10\n",
      "1250/1250 [==============================] - 64s 51ms/step - loss: 1.5461 - acc: 0.4904 - val_loss: 1.6723 - val_acc: 0.4639\n",
      "Epoch 9/10\n",
      "1250/1250 [==============================] - 64s 52ms/step - loss: 1.4752 - acc: 0.5107 - val_loss: 1.6192 - val_acc: 0.4780\n",
      "Epoch 10/10\n",
      "1250/1250 [==============================] - 64s 51ms/step - loss: 1.4159 - acc: 0.5299 - val_loss: 1.5909 - val_acc: 0.4906\n"
     ]
    }
   ],
   "source": [
    "history = model.fit(x_tr, y_tr, batch_size=32, epochs=10, validation_data=(x_val, y_val))"
   ]
  },
  {
   "cell_type": "code",
   "execution_count": null,
   "metadata": {
    "colab": {
     "base_uri": "https://localhost:8080/",
     "height": 449
    },
    "id": "kFQ9Gj1UX8q6",
    "outputId": "be9edb7a-8bf5-4eb6-f3f8-10a5707d9e78"
   },
   "outputs": [
    {
     "data": {
      "image/png": "[encoded data removed]",
      "text/plain": [
       "<Figure size 640x480 with 1 Axes>"
      ]
     },
     "metadata": {},
     "output_type": "display_data"
    }
   ],
   "source": [
    "import matplotlib.pyplot as plt\n",
    "%matplotlib inline\n",
    "\n",
    "acc = history.history['acc']\n",
    "val_acc = history.history['val_acc']\n",
    "\n",
    "epochs = range(len(acc))\n",
    "\n",
    "plt.plot(epochs, acc, 'bo', label='Training acc')\n",
    "plt.plot(epochs, val_acc, 'r', label='Validation acc')\n",
    "plt.xlabel('Epochs')\n",
    "plt.ylabel('Accuracy')\n",
    "plt.legend()\n",
    "plt.show()"
   ]
  },
  {
   "cell_type": "markdown",
   "metadata": {
    "id": "4pB7EfNmX8q6"
   },
   "source": [
    "## 3. Train (again) and evaluate the model\n",
    "\n",
    "- To this end, you have found the \"best\" hyper-parameters.\n",
    "- Now, fix the hyper-parameters and train the network on the entire training set (all the 50K training samples)\n",
    "- Evaluate your model on the test set."
   ]
  },
  {
   "cell_type": "markdown",
   "metadata": {
    "id": "-8nVrG21X8q6"
   },
   "source": [
    "### 3.1. Train the model on the entire training set\n",
    "\n",
    "Why? Previously, you used 40K samples for training; you wasted 10K samples for the sake of hyper-parameter tuning. Now you already know the hyper-parameters, so why not using all the 50K samples for training?"
   ]
  },
  {
   "cell_type": "code",
   "execution_count": null,
   "metadata": {
    "id": "ULmW51_NX8q6"
   },
   "outputs": [],
   "source": [
    "#<Compile your model again (using the same hyper-parameters)>\n",
    "#...\n",
    "\n",
    "from keras import optimizers\n",
    "\n",
    "learning_rate = 1E-5\n",
    "\n",
    "model.compile(loss='categorical_crossentropy',\n",
    "              optimizer=optimizers.RMSprop(learning_rate=learning_rate),\n",
    "              metrics=['acc'])\n"
   ]
  },
  {
   "cell_type": "code",
   "execution_count": null,
   "metadata": {
    "colab": {
     "base_uri": "https://localhost:8080/"
    },
    "id": "KmodNnZgX8q6",
    "outputId": "18a9c666-c82f-4a01-e4ce-bf4df7738f8c"
   },
   "outputs": [
    {
     "name": "stdout",
     "output_type": "stream",
     "text": [
      "Epoch 1/10\n",
      "1563/1563 [==============================] - 76s 48ms/step - loss: 1.4000 - acc: 0.5338\n",
      "Epoch 2/10\n",
      "1563/1563 [==============================] - 77s 50ms/step - loss: 1.3433 - acc: 0.5503\n",
      "Epoch 3/10\n",
      "1563/1563 [==============================] - 75s 48ms/step - loss: 1.2948 - acc: 0.5650\n",
      "Epoch 4/10\n",
      "1563/1563 [==============================] - 74s 48ms/step - loss: 1.2519 - acc: 0.5774\n",
      "Epoch 5/10\n",
      "1563/1563 [==============================] - 74s 47ms/step - loss: 1.2133 - acc: 0.5905\n",
      "Epoch 6/10\n",
      "1563/1563 [==============================] - 73s 47ms/step - loss: 1.1788 - acc: 0.6013\n",
      "Epoch 7/10\n",
      "1563/1563 [==============================] - 75s 48ms/step - loss: 1.1471 - acc: 0.6112\n",
      "Epoch 8/10\n",
      "1563/1563 [==============================] - 75s 48ms/step - loss: 1.1169 - acc: 0.6231\n",
      "Epoch 9/10\n",
      "1563/1563 [==============================] - 74s 48ms/step - loss: 1.0892 - acc: 0.6298\n",
      "Epoch 10/10\n",
      "1563/1563 [==============================] - 74s 48ms/step - loss: 1.0645 - acc: 0.6399\n"
     ]
    }
   ],
   "source": [
    "#<Train your model on the entire training set (50K samples)>\n",
    "#<Use (x_train, y_train_vec) instead of (x_tr, y_tr)>\n",
    "#<Do NOT use the validation_data option (because now you do not have validation data)>\n",
    "#...\n",
    "history = model.fit(x_train, y_train_vec, batch_size=32, epochs=10)\n"
   ]
  },
  {
   "cell_type": "code",
   "execution_count": null,
   "metadata": {
    "colab": {
     "base_uri": "https://localhost:8080/",
     "height": 449
    },
    "id": "7T-8irjArUUg",
    "outputId": "f914a832-bed9-4084-b90e-653f4f21ed86"
   },
   "outputs": [
    {
     "data": {
      "image/png": "[encoded data removed]",
      "text/plain": [
       "<Figure size 640x480 with 1 Axes>"
      ]
     },
     "metadata": {},
     "output_type": "display_data"
    }
   ],
   "source": [
    "%matplotlib inline\n",
    "acc = history.history['acc']\n",
    "\n",
    "\n",
    "epochs = range(len(acc))\n",
    "\n",
    "plt.plot(epochs, acc, 'bo', label='Training acc', linestyle = 'dashed')\n",
    "\n",
    "plt.xlabel('Epochs')\n",
    "plt.ylabel('Accuracy')\n",
    "plt.legend()\n",
    "plt.show()"
   ]
  },
  {
   "cell_type": "markdown",
   "metadata": {
    "id": "6BL7vhvlX8q7"
   },
   "source": [
    "### 3.2. Evaluate the model on the test set\n",
    "\n",
    "Do NOT used the test set until now. Make sure that your model parameters and hyper-parameters are independent of the test set."
   ]
  },
  {
   "cell_type": "code",
   "execution_count": null,
   "metadata": {
    "colab": {
     "base_uri": "https://localhost:8080/"
    },
    "id": "50_rfYVFX8q7",
    "outputId": "f6599957-dca6-4cc3-b994-524a7482cfb6"
   },
   "outputs": [
    {
     "name": "stdout",
     "output_type": "stream",
     "text": [
      "313/313 [==============================] - 5s 17ms/step - loss: 1.3146 - acc: 0.5704\n",
      "loss = 1.314581036567688\n",
      "accuracy = 0.5703999996185303\n"
     ]
    }
   ],
   "source": [
    "loss_and_acc = model.evaluate(x_test, y_test_vec)\n",
    "print('loss = ' + str(loss_and_acc[0]))\n",
    "print('accuracy = ' + str(loss_and_acc[1]))"
   ]
  },
  {
   "cell_type": "code",
   "execution_count": null,
   "metadata": {
    "colab": {
     "base_uri": "https://localhost:8080/"
    },
    "id": "Yff8EyfmX8q7",
    "outputId": "06ba644f-9a3f-4e46-a092-3d3f6a52ea53"
   },
   "outputs": [
    {
     "name": "stdout",
     "output_type": "stream",
     "text": [
      "Test accuracy: 57.04%\n",
      "Test loss: 1.3146\n"
     ]
    }
   ],
   "source": [
    "test_loss, test_accuracy = model.evaluate(x_test, y_test_vec, verbose=0)\n",
    "\n",
    "print(f'Test accuracy: {test_accuracy*100:.2f}%')\n",
    "print(f'Test loss: {test_loss:.4f}')\n"
   ]
  },
  {
   "cell_type": "markdown",
   "metadata": {
    "id": "A3eG68jGuqit"
   },
   "source": [
    "Improvements to the model"
   ]
  },
  {
   "cell_type": "code",
   "execution_count": null,
   "metadata": {
    "colab": {
     "base_uri": "https://localhost:8080/"
    },
    "id": "JzGvFTkowafS",
    "outputId": "fa5c37a9-d740-499a-92d8-af49cdabd651"
   },
   "outputs": [
    {
     "name": "stderr",
     "output_type": "stream",
     "text": [
      "WARNING:absl:`lr` is deprecated in Keras optimizer, please use `learning_rate` or use the legacy optimizer, e.g.,tf.keras.optimizers.legacy.RMSprop.\n"
     ]
    },
    {
     "name": "stdout",
     "output_type": "stream",
     "text": [
      "Epoch 1/50\n",
      "1562/1562 [==============================] - 104s 66ms/step - loss: 1.8334 - acc: 0.3919 - val_loss: 1.5449 - val_acc: 0.4639 - lr: 0.0010\n",
      "Epoch 2/50\n",
      "1562/1562 [==============================] - 103s 66ms/step - loss: 1.4785 - acc: 0.4911 - val_loss: 1.4956 - val_acc: 0.5121 - lr: 0.0010\n",
      "Epoch 3/50\n",
      "1562/1562 [==============================] - 103s 66ms/step - loss: 1.4224 - acc: 0.5141 - val_loss: 1.3258 - val_acc: 0.5448 - lr: 0.0010\n",
      "Epoch 4/50\n",
      "1562/1562 [==============================] - 105s 67ms/step - loss: 1.3859 - acc: 0.5294 - val_loss: 1.1866 - val_acc: 0.6115 - lr: 0.0010\n",
      "Epoch 5/50\n",
      "1562/1562 [==============================] - 104s 66ms/step - loss: 1.3748 - acc: 0.5332 - val_loss: 1.2243 - val_acc: 0.6001 - lr: 0.0010\n",
      "Epoch 6/50\n",
      "1562/1562 [==============================] - 103s 66ms/step - loss: 1.3695 - acc: 0.5335 - val_loss: 1.2159 - val_acc: 0.5836 - lr: 0.0010\n",
      "Epoch 7/50\n",
      "1562/1562 [============================>.] - ETA: 0s - loss: 1.3562 - acc: 0.5414\n",
      "Epoch 7: ReduceLROnPlateau reducing learning rate to 0.00010000000474974513.\n",
      "1562/1562 [==============================] - 105s 67ms/step - loss: 1.3560 - acc: 0.5414 - val_loss: 1.2573 - val_acc: 0.5969 - lr: 0.0010\n",
      "Epoch 8/50\n",
      "1562/1562 [==============================] - 104s 66ms/step - loss: 1.1183 - acc: 0.6209 - val_loss: 1.0818 - val_acc: 0.6349 - lr: 1.0000e-04\n",
      "Epoch 9/50\n",
      "1562/1562 [==============================] - 104s 67ms/step - loss: 1.0837 - acc: 0.6308 - val_loss: 1.0620 - val_acc: 0.6511 - lr: 1.0000e-04\n",
      "Epoch 10/50\n",
      "1562/1562 [==============================] - 103s 66ms/step - loss: 1.0731 - acc: 0.6356 - val_loss: 1.0519 - val_acc: 0.6532 - lr: 1.0000e-04\n",
      "Epoch 11/50\n",
      "1562/1562 [==============================] - 103s 66ms/step - loss: 1.0562 - acc: 0.6389 - val_loss: 1.0383 - val_acc: 0.6509 - lr: 1.0000e-04\n",
      "Epoch 12/50\n",
      "1562/1562 [==============================] - 110s 71ms/step - loss: 1.0519 - acc: 0.6387 - val_loss: 1.0574 - val_acc: 0.6616 - lr: 1.0000e-04\n",
      "Epoch 13/50\n",
      "1562/1562 [==============================] - 103s 66ms/step - loss: 1.0447 - acc: 0.6427 - val_loss: 1.0096 - val_acc: 0.6625 - lr: 1.0000e-04\n",
      "Epoch 14/50\n",
      "1562/1562 [==============================] - 104s 67ms/step - loss: 1.0363 - acc: 0.6487 - val_loss: 1.0172 - val_acc: 0.6744 - lr: 1.0000e-04\n",
      "Epoch 15/50\n",
      "1562/1562 [==============================] - 103s 66ms/step - loss: 1.0283 - acc: 0.6492 - val_loss: 0.9979 - val_acc: 0.6630 - lr: 1.0000e-04\n",
      "Epoch 16/50\n",
      "1562/1562 [==============================] - 103s 66ms/step - loss: 1.0244 - acc: 0.6507 - val_loss: 1.0867 - val_acc: 0.6443 - lr: 1.0000e-04\n",
      "Epoch 17/50\n",
      "1562/1562 [==============================] - 104s 67ms/step - loss: 1.0222 - acc: 0.6520 - val_loss: 1.0317 - val_acc: 0.6562 - lr: 1.0000e-04\n",
      "Epoch 18/50\n",
      "1562/1562 [============================>.] - ETA: 0s - loss: 1.0131 - acc: 0.6543\n",
      "Epoch 18: ReduceLROnPlateau reducing learning rate to 1.0000000474974514e-05.\n",
      "1562/1562 [==============================] - 103s 66ms/step - loss: 1.0130 - acc: 0.6544 - val_loss: 1.0105 - val_acc: 0.6696 - lr: 1.0000e-04\n",
      "Epoch 19/50\n",
      "1562/1562 [==============================] - 103s 66ms/step - loss: 0.9785 - acc: 0.6667 - val_loss: 0.9919 - val_acc: 0.6707 - lr: 1.0000e-05\n",
      "Epoch 20/50\n",
      "1562/1562 [==============================] - 110s 70ms/step - loss: 0.9781 - acc: 0.6669 - val_loss: 0.9890 - val_acc: 0.6765 - lr: 1.0000e-05\n",
      "Epoch 21/50\n",
      "1562/1562 [==============================] - 106s 68ms/step - loss: 0.9688 - acc: 0.6704 - val_loss: 0.9841 - val_acc: 0.6776 - lr: 1.0000e-05\n",
      "Epoch 22/50\n",
      "1562/1562 [==============================] - 104s 67ms/step - loss: 0.9716 - acc: 0.6691 - val_loss: 0.9778 - val_acc: 0.6800 - lr: 1.0000e-05\n",
      "Epoch 23/50\n",
      "1562/1562 [==============================] - 103s 66ms/step - loss: 0.9741 - acc: 0.6695 - val_loss: 0.9713 - val_acc: 0.6804 - lr: 1.0000e-05\n",
      "Epoch 24/50\n",
      "1562/1562 [==============================] - 106s 68ms/step - loss: 0.9632 - acc: 0.6718 - val_loss: 0.9703 - val_acc: 0.6814 - lr: 1.0000e-05\n",
      "Epoch 25/50\n",
      "1562/1562 [==============================] - 106s 68ms/step - loss: 0.9673 - acc: 0.6699 - val_loss: 0.9717 - val_acc: 0.6822 - lr: 1.0000e-05\n",
      "Epoch 26/50\n",
      "1562/1562 [==============================] - 105s 67ms/step - loss: 0.9646 - acc: 0.6714 - val_loss: 0.9822 - val_acc: 0.6770 - lr: 1.0000e-05\n",
      "Epoch 27/50\n",
      "1563/1562 [==============================] - ETA: 0s - loss: 0.9637 - acc: 0.6729\n",
      "Epoch 27: ReduceLROnPlateau reducing learning rate to 1.0000000656873453e-06.\n",
      "1562/1562 [==============================] - 104s 67ms/step - loss: 0.9637 - acc: 0.6729 - val_loss: 0.9724 - val_acc: 0.6809 - lr: 1.0000e-05\n",
      "Epoch 28/50\n",
      "1562/1562 [==============================] - 104s 66ms/step - loss: 0.9665 - acc: 0.6715 - val_loss: 0.9776 - val_acc: 0.6777 - lr: 1.0000e-06\n",
      "Epoch 29/50\n",
      "1562/1562 [==============================] - 104s 66ms/step - loss: 0.9635 - acc: 0.6721 - val_loss: 0.9770 - val_acc: 0.6785 - lr: 1.0000e-06\n",
      "Epoch 30/50\n",
      "1563/1562 [==============================] - ETA: 0s - loss: 0.9658 - acc: 0.6706\n",
      "Epoch 30: ReduceLROnPlateau reducing learning rate to 1.0000001111620805e-07.\n",
      "1562/1562 [==============================] - 104s 67ms/step - loss: 0.9658 - acc: 0.6706 - val_loss: 0.9804 - val_acc: 0.6766 - lr: 1.0000e-06\n",
      "Epoch 31/50\n",
      "1562/1562 [==============================] - 105s 67ms/step - loss: 0.9627 - acc: 0.6719 - val_loss: 0.9797 - val_acc: 0.6768 - lr: 1.0000e-07\n",
      "Epoch 32/50\n",
      "1562/1562 [==============================] - 104s 67ms/step - loss: 0.9678 - acc: 0.6703 - val_loss: 0.9786 - val_acc: 0.6774 - lr: 1.0000e-07\n",
      "Epoch 33/50\n",
      "1563/1562 [==============================] - ETA: 0s - loss: 0.9634 - acc: 0.6731\n",
      "Epoch 33: ReduceLROnPlateau reducing learning rate to 1e-07.\n",
      "1562/1562 [==============================] - 105s 67ms/step - loss: 0.9634 - acc: 0.6731 - val_loss: 0.9784 - val_acc: 0.6782 - lr: 1.0000e-07\n",
      "Epoch 34/50\n",
      "1562/1562 [==============================] - 104s 67ms/step - loss: 0.9633 - acc: 0.6728 - val_loss: 0.9784 - val_acc: 0.6778 - lr: 1.0000e-07\n",
      "Test accuracy: 66.61%\n",
      "Test loss: 1.0396\n"
     ]
    }
   ],
   "source": [
    "from keras.preprocessing.image import ImageDataGenerator\n",
    "from keras.callbacks import EarlyStopping, ReduceLROnPlateau\n",
    "from keras.optimizers import RMSprop\n",
    "from keras.layers import Conv2D, MaxPooling2D, Flatten, Dense, Dropout\n",
    "\n",
    "# Use a More Complex Model and Regularization\n",
    "# Example: Add additional Conv2D layers or increase units in Dense layers\n",
    "# Example: Add Dropout layers or apply L2 regularization\n",
    "\n",
    "\n",
    "\n",
    "# Data Augmentation\n",
    "datagen = ImageDataGenerator(\n",
    "    rotation_range=15,\n",
    "    width_shift_range=0.1,\n",
    "    height_shift_range=0.1,\n",
    "    horizontal_flip=True\n",
    ")\n",
    "\n",
    "datagen.fit(x_train)\n",
    "\n",
    "\n",
    "# Learning Rate Scheduling\n",
    "reduce_lr = ReduceLROnPlateau(monitor='val_loss', factor=0.1, patience=3, min_lr=1e-7, verbose=1)\n",
    "\n",
    "# Early Stopping\n",
    "early_stopping = EarlyStopping(monitor='val_loss', patience=10, restore_best_weights=True)\n",
    "\n",
    "# Re-compile the model after making changes\n",
    "model.compile(loss='categorical_crossentropy',\n",
    "              optimizer=optimizers.RMSprop(lr=1E-4),\n",
    "              metrics=['acc'])\n",
    "\n",
    "# Train the model with data augmentation, learning rate scheduling, and early stopping\n",
    "history = model.fit(datagen.flow(x_train, y_train_vec, batch_size=32),\n",
    "                    steps_per_epoch=len(x_train)/32, # Number of batches per epoch\n",
    "                    epochs=50,\n",
    "                    validation_data=(x_val, y_val),\n",
    "                    callbacks=[reduce_lr, early_stopping])\n",
    "\n",
    "# Evaluate on the test set\n",
    "test_loss, test_accuracy = model.evaluate(x_test, y_test_vec, verbose=0)\n",
    "print(f'Test accuracy: {test_accuracy*100:.2f}%')\n",
    "print(f'Test loss: {test_loss:.4f}')\n"
   ]
  },
  {
   "cell_type": "code",
   "execution_count": null,
   "metadata": {
    "colab": {
     "base_uri": "https://localhost:8080/",
     "height": 449
    },
    "id": "W8hSmnlUzZyN",
    "outputId": "990e75dd-b85c-4df7-cc9b-e48a5e5ddb3a"
   },
   "outputs": [
    {
     "data": {
      "image/png": "[encoded data removed]",
      "text/plain": [
       "<Figure size 640x480 with 1 Axes>"
      ]
     },
     "metadata": {},
     "output_type": "display_data"
    }
   ],
   "source": [
    "%matplotlib inline\n",
    "acc = history.history['acc']\n",
    "\n",
    "\n",
    "epochs = range(len(acc))\n",
    "\n",
    "plt.plot(epochs, acc, 'bo', label='Training acc', linestyle = 'dashed')\n",
    "\n",
    "plt.xlabel('Epochs')\n",
    "plt.ylabel('Accuracy')\n",
    "plt.legend()\n",
    "plt.show()"
   ]
  },
  {
   "cell_type": "code",
   "execution_count": null,
   "metadata": {
    "colab": {
     "base_uri": "https://localhost:8080/",
     "height": 1000
    },
    "id": "IabQhXkE6y8i",
    "outputId": "8b6242bb-d07f-413b-90c3-51625b83e94f"
   },
   "outputs": [
    {
     "name": "stderr",
     "output_type": "stream",
     "text": [
      "WARNING:absl:`lr` is deprecated in Keras optimizer, please use `learning_rate` or use the legacy optimizer, e.g.,tf.keras.optimizers.legacy.RMSprop.\n"
     ]
    },
    {
     "name": "stdout",
     "output_type": "stream",
     "text": [
      "Epoch 1/50\n",
      "1562/1562 [==============================] - 109s 69ms/step - loss: 1.9595 - acc: 0.3386 - val_loss: 1.6741 - val_acc: 0.4025 - lr: 0.0010\n",
      "Epoch 2/50\n",
      "1562/1562 [==============================] - 104s 67ms/step - loss: 1.6604 - acc: 0.4129 - val_loss: 1.5128 - val_acc: 0.4495 - lr: 0.0010\n",
      "Epoch 3/50\n",
      "1562/1562 [==============================] - 104s 67ms/step - loss: 1.6673 - acc: 0.4200 - val_loss: 1.7683 - val_acc: 0.3891 - lr: 0.0010\n",
      "Epoch 4/50\n",
      "1562/1562 [==============================] - 104s 66ms/step - loss: 1.6940 - acc: 0.4105 - val_loss: 1.5269 - val_acc: 0.4773 - lr: 0.0010\n",
      "Epoch 5/50\n",
      "1562/1562 [==============================] - 104s 67ms/step - loss: 1.7361 - acc: 0.3967 - val_loss: 1.4943 - val_acc: 0.4695 - lr: 0.0010\n",
      "Epoch 6/50\n",
      "1562/1562 [==============================] - 104s 67ms/step - loss: 1.7504 - acc: 0.3895 - val_loss: 1.6644 - val_acc: 0.4382 - lr: 0.0010\n",
      "Epoch 7/50\n",
      "1562/1562 [==============================] - 105s 67ms/step - loss: 1.7748 - acc: 0.3802 - val_loss: 1.9790 - val_acc: 0.2709 - lr: 0.0010\n",
      "Epoch 8/50\n",
      "1563/1562 [==============================] - ETA: 0s - loss: 1.8353 - acc: 0.3545\n",
      "Epoch 8: ReduceLROnPlateau reducing learning rate to 0.00010000000474974513.\n",
      "1562/1562 [==============================] - 106s 68ms/step - loss: 1.8353 - acc: 0.3545 - val_loss: 1.7742 - val_acc: 0.3664 - lr: 0.0010\n",
      "Epoch 9/50\n",
      "1562/1562 [==============================] - 106s 68ms/step - loss: 1.5806 - acc: 0.4391 - val_loss: 1.4518 - val_acc: 0.4926 - lr: 1.0000e-04\n",
      "Epoch 10/50\n",
      "1562/1562 [==============================] - 106s 68ms/step - loss: 1.5311 - acc: 0.4587 - val_loss: 1.4162 - val_acc: 0.5131 - lr: 1.0000e-04\n",
      "Epoch 11/50\n",
      "1562/1562 [==============================] - 111s 71ms/step - loss: 1.5175 - acc: 0.4654 - val_loss: 1.4513 - val_acc: 0.5053 - lr: 1.0000e-04\n",
      "Epoch 12/50\n",
      "1562/1562 [==============================] - 109s 70ms/step - loss: 1.5126 - acc: 0.4678 - val_loss: 1.4277 - val_acc: 0.5089 - lr: 1.0000e-04\n",
      "Epoch 13/50\n",
      "1562/1562 [==============================] - 110s 70ms/step - loss: 1.5058 - acc: 0.4682 - val_loss: 1.4059 - val_acc: 0.5093 - lr: 1.0000e-04\n",
      "Epoch 14/50\n",
      "1562/1562 [==============================] - 110s 70ms/step - loss: 1.5116 - acc: 0.4665 - val_loss: 1.4782 - val_acc: 0.4788 - lr: 1.0000e-04\n",
      "Epoch 15/50\n",
      "1562/1562 [==============================] - 107s 69ms/step - loss: 1.5043 - acc: 0.4696 - val_loss: 1.4192 - val_acc: 0.5160 - lr: 1.0000e-04\n",
      "Epoch 16/50\n",
      "1563/1562 [==============================] - ETA: 0s - loss: 1.5015 - acc: 0.4742\n",
      "Epoch 16: ReduceLROnPlateau reducing learning rate to 1.0000000474974514e-05.\n",
      "1562/1562 [==============================] - 106s 68ms/step - loss: 1.5015 - acc: 0.4742 - val_loss: 1.4480 - val_acc: 0.5035 - lr: 1.0000e-04\n",
      "Epoch 17/50\n",
      "1562/1562 [==============================] - 105s 67ms/step - loss: 1.4726 - acc: 0.4808 - val_loss: 1.4123 - val_acc: 0.5187 - lr: 1.0000e-05\n",
      "Epoch 18/50\n",
      "1562/1562 [==============================] - 105s 67ms/step - loss: 1.4602 - acc: 0.4856 - val_loss: 1.4007 - val_acc: 0.5172 - lr: 1.0000e-05\n",
      "Epoch 19/50\n",
      "1562/1562 [==============================] - 105s 67ms/step - loss: 1.4531 - acc: 0.4851 - val_loss: 1.4307 - val_acc: 0.5184 - lr: 1.0000e-05\n",
      "Epoch 20/50\n",
      "1562/1562 [==============================] - 104s 66ms/step - loss: 1.4627 - acc: 0.4868 - val_loss: 1.3988 - val_acc: 0.5146 - lr: 1.0000e-05\n",
      "Epoch 21/50\n",
      "1562/1562 [==============================] - 106s 68ms/step - loss: 1.4572 - acc: 0.4843 - val_loss: 1.4219 - val_acc: 0.5208 - lr: 1.0000e-05\n",
      "Epoch 22/50\n",
      "1562/1562 [==============================] - 104s 67ms/step - loss: 1.4493 - acc: 0.4883 - val_loss: 1.4115 - val_acc: 0.5268 - lr: 1.0000e-05\n",
      "Epoch 23/50\n",
      "1563/1562 [==============================] - ETA: 0s - loss: 1.4575 - acc: 0.4871\n",
      "Epoch 23: ReduceLROnPlateau reducing learning rate to 1.0000000656873453e-06.\n",
      "1562/1562 [==============================] - 104s 66ms/step - loss: 1.4575 - acc: 0.4871 - val_loss: 1.4363 - val_acc: 0.5176 - lr: 1.0000e-05\n",
      "Epoch 24/50\n",
      "1562/1562 [==============================] - 104s 67ms/step - loss: 1.4561 - acc: 0.4860 - val_loss: 1.4039 - val_acc: 0.5198 - lr: 1.0000e-06\n",
      "Epoch 25/50\n",
      "1562/1562 [==============================] - 105s 67ms/step - loss: 1.4498 - acc: 0.4844 - val_loss: 1.4096 - val_acc: 0.5202 - lr: 1.0000e-06\n",
      "Epoch 26/50\n",
      "1563/1562 [==============================] - ETA: 0s - loss: 1.4592 - acc: 0.4861\n",
      "Epoch 26: ReduceLROnPlateau reducing learning rate to 1.0000001111620805e-07.\n",
      "1562/1562 [==============================] - 104s 66ms/step - loss: 1.4592 - acc: 0.4861 - val_loss: 1.4048 - val_acc: 0.5177 - lr: 1.0000e-06\n",
      "Epoch 27/50\n",
      "1562/1562 [==============================] - 104s 66ms/step - loss: 1.4565 - acc: 0.4850 - val_loss: 1.4066 - val_acc: 0.5179 - lr: 1.0000e-07\n",
      "Epoch 28/50\n",
      "1562/1562 [==============================] - 105s 67ms/step - loss: 1.4495 - acc: 0.4877 - val_loss: 1.4091 - val_acc: 0.5201 - lr: 1.0000e-07\n",
      "Epoch 29/50\n",
      "1563/1562 [==============================] - ETA: 0s - loss: 1.4504 - acc: 0.4848\n",
      "Epoch 29: ReduceLROnPlateau reducing learning rate to 1e-07.\n",
      "1562/1562 [==============================] - 105s 67ms/step - loss: 1.4504 - acc: 0.4848 - val_loss: 1.4098 - val_acc: 0.5200 - lr: 1.0000e-07\n",
      "Epoch 30/50\n",
      "1562/1562 [==============================] - 104s 67ms/step - loss: 1.4520 - acc: 0.4890 - val_loss: 1.4099 - val_acc: 0.5201 - lr: 1.0000e-07\n",
      "Test accuracy: 51.39%\n",
      "Test loss: 1.3905\n"
     ]
    },
    {
     "data": {
      "image/png": "[encoded data removed]",
      "text/plain": [
       "<Figure size 640x480 with 1 Axes>"
      ]
     },
     "metadata": {},
     "output_type": "display_data"
    }
   ],
   "source": [
    "from keras.preprocessing.image import ImageDataGenerator\n",
    "from keras.callbacks import EarlyStopping, ReduceLROnPlateau\n",
    "from keras.optimizers import RMSprop\n",
    "from keras.layers import Conv2D, MaxPooling2D, Flatten, Dense, Dropout\n",
    "\n",
    "# Use a More Complex Model and Regularization\n",
    "# Example: Add additional Conv2D layers or increase units in Dense layers\n",
    "# Example: Add Dropout layers or apply L2 regularization\n",
    "model1 = Sequential([\n",
    "    Conv2D(32, (3, 3), activation='relu', input_shape=(32, 32, 3)),\n",
    "    MaxPooling2D((2, 2)),\n",
    "    Conv2D(64, (3, 3), activation='relu'),\n",
    "    MaxPooling2D((2, 2)),\n",
    "    Conv2D(128, (3, 3), activation='relu'),\n",
    "    Flatten(),\n",
    "    Dense(512, activation='relu'),\n",
    "    Dropout(0.5),  # Add dropout for regularization\n",
    "    Dense(10, activation='softmax')\n",
    "])\n",
    "\n",
    "\n",
    "# Data Augmentation\n",
    "datagen = ImageDataGenerator(\n",
    "    rotation_range=15,\n",
    "    width_shift_range=0.1,\n",
    "    height_shift_range=0.1,\n",
    "    horizontal_flip=True\n",
    ")\n",
    "\n",
    "datagen.fit(x_train)\n",
    "\n",
    "# Learning Rate Scheduling\n",
    "reduce_lr = ReduceLROnPlateau(monitor='val_loss', factor=0.1, patience=3, min_lr=1e-7, verbose=1)\n",
    "\n",
    "# Early Stopping\n",
    "early_stopping = EarlyStopping(monitor='val_loss', patience=10, restore_best_weights=True)\n",
    "\n",
    "# Re-compile the model after making changes\n",
    "model1.compile(loss='categorical_crossentropy',\n",
    "              optimizer=optimizers.RMSprop(lr=1E-4),\n",
    "              metrics=['acc'])\n",
    "\n",
    "# Train the model with data augmentation, learning rate scheduling, and early stopping\n",
    "history1 = model1.fit(datagen.flow(x_train, y_train_vec, batch_size=32),\n",
    "                    steps_per_epoch=len(x_train)/32, # Number of batches per epoch\n",
    "                    epochs=50,\n",
    "                    validation_data=(x_val, y_val),\n",
    "                    callbacks=[reduce_lr, early_stopping])\n",
    "\n",
    "# Evaluate on the test set\n",
    "test_loss, test_accuracy = model1.evaluate(x_test, y_test_vec, verbose=0)\n",
    "print(f'Test accuracy: {test_accuracy*100:.2f}%')\n",
    "print(f'Test loss: {test_loss:.4f}')\n",
    "\n",
    "%matplotlib inline\n",
    "acc = history1.history['acc']\n",
    "\n",
    "\n",
    "epochs = range(len(acc))\n",
    "\n",
    "plt.plot(epochs, acc, 'bo', label='Training acc', linestyle = 'dashed')\n",
    "\n",
    "plt.xlabel('Epochs')\n",
    "plt.ylabel('Accuracy')\n",
    "plt.legend()\n",
    "plt.show()\n",
    "\n",
    "\n",
    "\n",
    "\n"
   ]
  }
 ],
 "metadata": {
  "colab": {
   "provenance": []
  },
  "kernelspec": {
   "display_name": "Python 3 (ipykernel)",
   "language": "python",
   "name": "python3"
  },
  "language_info": {
   "codemirror_mode": {
    "name": "ipython",
    "version": 3
   },
   "file_extension": ".py",
   "mimetype": "text/x-python",
   "name": "python",
   "nbconvert_exporter": "python",
   "pygments_lexer": "ipython3",
   "version": "3.11.1"
  }
 },
 "nbformat": 4,
 "nbformat_minor": 1
}
